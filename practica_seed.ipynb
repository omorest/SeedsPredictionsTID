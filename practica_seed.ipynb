{
  "nbformat": 4,
  "nbformat_minor": 0,
  "metadata": {
    "colab": {
      "name": "practica_seed.ipynb",
      "provenance": [],
      "collapsed_sections": [],
      "toc_visible": true
    },
    "kernelspec": {
      "name": "python3",
      "display_name": "Python 3"
    }
  },
  "cells": [
    {
      "cell_type": "markdown",
      "metadata": {
        "id": "rhrzQM31QZMD",
        "colab_type": "text"
      },
      "source": [
        "# **Tratamiento Inteligente de Datos**\n",
        "# Práctica Inidividual - Árbol de decisión\n",
        "\n",
        "Óscar Moreira Estévez \n",
        "\n",
        "3º Grado en Ingeniería Informática - Itinerario de Computación\n",
        "\n",
        "<br>\n",
        "____"
      ]
    },
    {
      "cell_type": "markdown",
      "metadata": {
        "id": "c6xl0teSH9-c",
        "colab_type": "text"
      },
      "source": [
        "# Descripción de la práctica\n",
        "\n",
        "En esta práctica a partir de un fichero *seeds.txt* en el que se nos dan 210 semillas de trigo con 3 tipos diferentes como son Kama, Rosa y Canadiense, creamos un programa que sea capaz de clasificarlas usando un *árbol de decisión*."
      ]
    },
    {
      "cell_type": "markdown",
      "metadata": {
        "id": "TI8VdHTuVUqB",
        "colab_type": "text"
      },
      "source": [
        "# 1. Fichero y librerías necesarias\n",
        "\n",
        "## 1.1 Fichero Necesario\n",
        "\n",
        "- **seeds.txt :** Fichero con el que se trabajará en esta práctica\n",
        "- Se puede descargar desde este [enlace fichero](https://raw.githubusercontent.com/omorest/SeedsPredictionsTID/master/seeds.txt)\n",
        "\n",
        "## 1.2 Liberías Necesarias\n",
        "\n",
        "- **Pandas :** Proceso de tratar los datos como leer el dataframe, modificarlos, acceder a ellos, etc...\n",
        "- **Sklearn :** librería para machine learning en la que podremos crear *árboles de decisión*, entrenar el modelo, etc...\n",
        "- **Graphviz :**  Librería para poder mostrar el árbol de decisión"
      ]
    },
    {
      "cell_type": "markdown",
      "metadata": {
        "id": "Li_01Q7xXBVk",
        "colab_type": "text"
      },
      "source": [
        "## 2. Instalación de paquetes\n",
        "\n"
      ]
    },
    {
      "cell_type": "code",
      "metadata": {
        "id": "9BGpNVnXziSe",
        "colab_type": "code",
        "colab": {}
      },
      "source": [
        "pip install pandas sklearn graphviz"
      ],
      "execution_count": 0,
      "outputs": []
    },
    {
      "cell_type": "markdown",
      "metadata": {
        "id": "-SJ0cKxzYl54",
        "colab_type": "text"
      },
      "source": [
        "\n",
        "___\n",
        "\n",
        "<br>\n",
        "\n",
        "# 3. Comienzo de la práctica\n",
        "\n",
        "## 3.1 Creación del Dataframe\n",
        "\n",
        "Importamos la librerías **pandas** con la que leeremos el fichero y creamos nuestro dataframe"
      ]
    },
    {
      "cell_type": "code",
      "metadata": {
        "id": "Y2gicmGl4_uR",
        "colab_type": "code",
        "colab": {}
      },
      "source": [
        "import pandas as pd"
      ],
      "execution_count": 0,
      "outputs": []
    },
    {
      "cell_type": "code",
      "metadata": {
        "id": "ieRsku1G7Onv",
        "colab_type": "code",
        "colab": {}
      },
      "source": [
        "dataframe_file = 'seeds.txt' \n",
        "\n",
        "# Leemos el fichero y le introducimos los nombres de las columnas que tendremos\n",
        "\n",
        "dataframe = pd.read_csv(dataframe_file, delimiter=\"\\s+\", names=['area', 'perimeter','compactibility', 'nucleus_length', 'nucleus_width', 'asymmetry_coefficient', 'groove_length', 'seed_type'])"
      ],
      "execution_count": 0,
      "outputs": []
    },
    {
      "cell_type": "code",
      "metadata": {
        "id": "YCU4frlO29Bu",
        "colab_type": "code",
        "outputId": "d9be0c3e-f3f7-4aa9-8b66-d7daeb9bb306",
        "colab": {
          "base_uri": "https://localhost:8080/",
          "height": 419
        }
      },
      "source": [
        "#Visualizamos el dataframe\n",
        "\n",
        "dataframe"
      ],
      "execution_count": 670,
      "outputs": [
        {
          "output_type": "execute_result",
          "data": {
            "text/html": [
              "<div>\n",
              "<style scoped>\n",
              "    .dataframe tbody tr th:only-of-type {\n",
              "        vertical-align: middle;\n",
              "    }\n",
              "\n",
              "    .dataframe tbody tr th {\n",
              "        vertical-align: top;\n",
              "    }\n",
              "\n",
              "    .dataframe thead th {\n",
              "        text-align: right;\n",
              "    }\n",
              "</style>\n",
              "<table border=\"1\" class=\"dataframe\">\n",
              "  <thead>\n",
              "    <tr style=\"text-align: right;\">\n",
              "      <th></th>\n",
              "      <th>area</th>\n",
              "      <th>perimeter</th>\n",
              "      <th>compactibility</th>\n",
              "      <th>nucleus_length</th>\n",
              "      <th>nucleus_width</th>\n",
              "      <th>asymmetry_coefficient</th>\n",
              "      <th>groove_length</th>\n",
              "      <th>seed_type</th>\n",
              "    </tr>\n",
              "  </thead>\n",
              "  <tbody>\n",
              "    <tr>\n",
              "      <th>0</th>\n",
              "      <td>15.26</td>\n",
              "      <td>14.84</td>\n",
              "      <td>0.8710</td>\n",
              "      <td>5.763</td>\n",
              "      <td>3.312</td>\n",
              "      <td>2.221</td>\n",
              "      <td>5.220</td>\n",
              "      <td>1</td>\n",
              "    </tr>\n",
              "    <tr>\n",
              "      <th>1</th>\n",
              "      <td>14.88</td>\n",
              "      <td>14.57</td>\n",
              "      <td>0.8811</td>\n",
              "      <td>5.554</td>\n",
              "      <td>3.333</td>\n",
              "      <td>1.018</td>\n",
              "      <td>4.956</td>\n",
              "      <td>1</td>\n",
              "    </tr>\n",
              "    <tr>\n",
              "      <th>2</th>\n",
              "      <td>14.29</td>\n",
              "      <td>14.09</td>\n",
              "      <td>0.9050</td>\n",
              "      <td>5.291</td>\n",
              "      <td>3.337</td>\n",
              "      <td>2.699</td>\n",
              "      <td>4.825</td>\n",
              "      <td>1</td>\n",
              "    </tr>\n",
              "    <tr>\n",
              "      <th>3</th>\n",
              "      <td>13.84</td>\n",
              "      <td>13.94</td>\n",
              "      <td>0.8955</td>\n",
              "      <td>5.324</td>\n",
              "      <td>3.379</td>\n",
              "      <td>2.259</td>\n",
              "      <td>4.805</td>\n",
              "      <td>1</td>\n",
              "    </tr>\n",
              "    <tr>\n",
              "      <th>4</th>\n",
              "      <td>16.14</td>\n",
              "      <td>14.99</td>\n",
              "      <td>0.9034</td>\n",
              "      <td>5.658</td>\n",
              "      <td>3.562</td>\n",
              "      <td>1.355</td>\n",
              "      <td>5.175</td>\n",
              "      <td>1</td>\n",
              "    </tr>\n",
              "    <tr>\n",
              "      <th>...</th>\n",
              "      <td>...</td>\n",
              "      <td>...</td>\n",
              "      <td>...</td>\n",
              "      <td>...</td>\n",
              "      <td>...</td>\n",
              "      <td>...</td>\n",
              "      <td>...</td>\n",
              "      <td>...</td>\n",
              "    </tr>\n",
              "    <tr>\n",
              "      <th>205</th>\n",
              "      <td>12.19</td>\n",
              "      <td>13.20</td>\n",
              "      <td>0.8783</td>\n",
              "      <td>5.137</td>\n",
              "      <td>2.981</td>\n",
              "      <td>3.631</td>\n",
              "      <td>4.870</td>\n",
              "      <td>3</td>\n",
              "    </tr>\n",
              "    <tr>\n",
              "      <th>206</th>\n",
              "      <td>11.23</td>\n",
              "      <td>12.88</td>\n",
              "      <td>0.8511</td>\n",
              "      <td>5.140</td>\n",
              "      <td>2.795</td>\n",
              "      <td>4.325</td>\n",
              "      <td>5.003</td>\n",
              "      <td>3</td>\n",
              "    </tr>\n",
              "    <tr>\n",
              "      <th>207</th>\n",
              "      <td>13.20</td>\n",
              "      <td>13.66</td>\n",
              "      <td>0.8883</td>\n",
              "      <td>5.236</td>\n",
              "      <td>3.232</td>\n",
              "      <td>8.315</td>\n",
              "      <td>5.056</td>\n",
              "      <td>3</td>\n",
              "    </tr>\n",
              "    <tr>\n",
              "      <th>208</th>\n",
              "      <td>11.84</td>\n",
              "      <td>13.21</td>\n",
              "      <td>0.8521</td>\n",
              "      <td>5.175</td>\n",
              "      <td>2.836</td>\n",
              "      <td>3.598</td>\n",
              "      <td>5.044</td>\n",
              "      <td>3</td>\n",
              "    </tr>\n",
              "    <tr>\n",
              "      <th>209</th>\n",
              "      <td>12.30</td>\n",
              "      <td>13.34</td>\n",
              "      <td>0.8684</td>\n",
              "      <td>5.243</td>\n",
              "      <td>2.974</td>\n",
              "      <td>5.637</td>\n",
              "      <td>5.063</td>\n",
              "      <td>3</td>\n",
              "    </tr>\n",
              "  </tbody>\n",
              "</table>\n",
              "<p>210 rows × 8 columns</p>\n",
              "</div>"
            ],
            "text/plain": [
              "      area  perimeter  ...  groove_length  seed_type\n",
              "0    15.26      14.84  ...          5.220          1\n",
              "1    14.88      14.57  ...          4.956          1\n",
              "2    14.29      14.09  ...          4.825          1\n",
              "3    13.84      13.94  ...          4.805          1\n",
              "4    16.14      14.99  ...          5.175          1\n",
              "..     ...        ...  ...            ...        ...\n",
              "205  12.19      13.20  ...          4.870          3\n",
              "206  11.23      12.88  ...          5.003          3\n",
              "207  13.20      13.66  ...          5.056          3\n",
              "208  11.84      13.21  ...          5.044          3\n",
              "209  12.30      13.34  ...          5.063          3\n",
              "\n",
              "[210 rows x 8 columns]"
            ]
          },
          "metadata": {
            "tags": []
          },
          "execution_count": 670
        }
      ]
    },
    {
      "cell_type": "markdown",
      "metadata": {
        "id": "xMlIkeccZucy",
        "colab_type": "text"
      },
      "source": [
        "> ### NOTA\n",
        "> Podemos ver los tipos de semilla que tenemos en todo el dataframe y también ver cuantos hay de cada tipo "
      ]
    },
    {
      "cell_type": "code",
      "metadata": {
        "id": "G6XnNAjHBGX7",
        "colab_type": "code",
        "outputId": "ddd5cd0d-b137-40b4-cff3-c5a9390849db",
        "colab": {
          "base_uri": "https://localhost:8080/",
          "height": 34
        }
      },
      "source": [
        "# Tipos de semillas\n",
        "\n",
        "dataframe['seed_type'].unique()"
      ],
      "execution_count": 671,
      "outputs": [
        {
          "output_type": "execute_result",
          "data": {
            "text/plain": [
              "array([1, 2, 3])"
            ]
          },
          "metadata": {
            "tags": []
          },
          "execution_count": 671
        }
      ]
    },
    {
      "cell_type": "code",
      "metadata": {
        "id": "W_oNRJXc-fs3",
        "colab_type": "code",
        "outputId": "66037998-bbcd-48c4-8847-41ef34bb7552",
        "colab": {
          "base_uri": "https://localhost:8080/",
          "height": 85
        }
      },
      "source": [
        "# Cantidad de semillas por cada tipo de ellas\n",
        "dataframe['seed_type'].value_counts()"
      ],
      "execution_count": 672,
      "outputs": [
        {
          "output_type": "execute_result",
          "data": {
            "text/plain": [
              "3    70\n",
              "2    70\n",
              "1    70\n",
              "Name: seed_type, dtype: int64"
            ]
          },
          "metadata": {
            "tags": []
          },
          "execution_count": 672
        }
      ]
    },
    {
      "cell_type": "markdown",
      "metadata": {
        "id": "q4-rE6D7bUXV",
        "colab_type": "text"
      },
      "source": [
        "\n",
        "___\n",
        "\n",
        "<br>\n",
        "\n",
        "## 3.2 Datos de descriptivos y datos objetivo.\n",
        "\n",
        "- **Descriptivos (data) :** Usaremos el mismo dataframe pero sin la última columna ya que es la que queremos predecir.\n",
        "\n",
        "- **Objetivo (target) :** Usaremos solo la última columna del dataframe\n"
      ]
    },
    {
      "cell_type": "code",
      "metadata": {
        "id": "axo82EhOBkKP",
        "colab_type": "code",
        "colab": {}
      },
      "source": [
        "# Eliminación de la ultima columna para crear el dataframe de los datos descriptivos\n",
        "\n",
        "data = seeds_dataframe.drop('seed_type', axis=1)"
      ],
      "execution_count": 0,
      "outputs": []
    },
    {
      "cell_type": "code",
      "metadata": {
        "id": "srN_OisVCNqe",
        "colab_type": "code",
        "outputId": "1c6afd07-5ea6-4cea-d332-6860bb78d385",
        "colab": {
          "base_uri": "https://localhost:8080/",
          "height": 419
        }
      },
      "source": [
        "data"
      ],
      "execution_count": 674,
      "outputs": [
        {
          "output_type": "execute_result",
          "data": {
            "text/html": [
              "<div>\n",
              "<style scoped>\n",
              "    .dataframe tbody tr th:only-of-type {\n",
              "        vertical-align: middle;\n",
              "    }\n",
              "\n",
              "    .dataframe tbody tr th {\n",
              "        vertical-align: top;\n",
              "    }\n",
              "\n",
              "    .dataframe thead th {\n",
              "        text-align: right;\n",
              "    }\n",
              "</style>\n",
              "<table border=\"1\" class=\"dataframe\">\n",
              "  <thead>\n",
              "    <tr style=\"text-align: right;\">\n",
              "      <th></th>\n",
              "      <th>area</th>\n",
              "      <th>perimeter</th>\n",
              "      <th>compactibility</th>\n",
              "      <th>nucleus_length</th>\n",
              "      <th>nucleus_width</th>\n",
              "      <th>asymmetry_coefficient</th>\n",
              "      <th>groove_length</th>\n",
              "    </tr>\n",
              "  </thead>\n",
              "  <tbody>\n",
              "    <tr>\n",
              "      <th>0</th>\n",
              "      <td>15.26</td>\n",
              "      <td>14.84</td>\n",
              "      <td>0.8710</td>\n",
              "      <td>5.763</td>\n",
              "      <td>3.312</td>\n",
              "      <td>2.221</td>\n",
              "      <td>5.220</td>\n",
              "    </tr>\n",
              "    <tr>\n",
              "      <th>1</th>\n",
              "      <td>14.88</td>\n",
              "      <td>14.57</td>\n",
              "      <td>0.8811</td>\n",
              "      <td>5.554</td>\n",
              "      <td>3.333</td>\n",
              "      <td>1.018</td>\n",
              "      <td>4.956</td>\n",
              "    </tr>\n",
              "    <tr>\n",
              "      <th>2</th>\n",
              "      <td>14.29</td>\n",
              "      <td>14.09</td>\n",
              "      <td>0.9050</td>\n",
              "      <td>5.291</td>\n",
              "      <td>3.337</td>\n",
              "      <td>2.699</td>\n",
              "      <td>4.825</td>\n",
              "    </tr>\n",
              "    <tr>\n",
              "      <th>3</th>\n",
              "      <td>13.84</td>\n",
              "      <td>13.94</td>\n",
              "      <td>0.8955</td>\n",
              "      <td>5.324</td>\n",
              "      <td>3.379</td>\n",
              "      <td>2.259</td>\n",
              "      <td>4.805</td>\n",
              "    </tr>\n",
              "    <tr>\n",
              "      <th>4</th>\n",
              "      <td>16.14</td>\n",
              "      <td>14.99</td>\n",
              "      <td>0.9034</td>\n",
              "      <td>5.658</td>\n",
              "      <td>3.562</td>\n",
              "      <td>1.355</td>\n",
              "      <td>5.175</td>\n",
              "    </tr>\n",
              "    <tr>\n",
              "      <th>...</th>\n",
              "      <td>...</td>\n",
              "      <td>...</td>\n",
              "      <td>...</td>\n",
              "      <td>...</td>\n",
              "      <td>...</td>\n",
              "      <td>...</td>\n",
              "      <td>...</td>\n",
              "    </tr>\n",
              "    <tr>\n",
              "      <th>205</th>\n",
              "      <td>12.19</td>\n",
              "      <td>13.20</td>\n",
              "      <td>0.8783</td>\n",
              "      <td>5.137</td>\n",
              "      <td>2.981</td>\n",
              "      <td>3.631</td>\n",
              "      <td>4.870</td>\n",
              "    </tr>\n",
              "    <tr>\n",
              "      <th>206</th>\n",
              "      <td>11.23</td>\n",
              "      <td>12.88</td>\n",
              "      <td>0.8511</td>\n",
              "      <td>5.140</td>\n",
              "      <td>2.795</td>\n",
              "      <td>4.325</td>\n",
              "      <td>5.003</td>\n",
              "    </tr>\n",
              "    <tr>\n",
              "      <th>207</th>\n",
              "      <td>13.20</td>\n",
              "      <td>13.66</td>\n",
              "      <td>0.8883</td>\n",
              "      <td>5.236</td>\n",
              "      <td>3.232</td>\n",
              "      <td>8.315</td>\n",
              "      <td>5.056</td>\n",
              "    </tr>\n",
              "    <tr>\n",
              "      <th>208</th>\n",
              "      <td>11.84</td>\n",
              "      <td>13.21</td>\n",
              "      <td>0.8521</td>\n",
              "      <td>5.175</td>\n",
              "      <td>2.836</td>\n",
              "      <td>3.598</td>\n",
              "      <td>5.044</td>\n",
              "    </tr>\n",
              "    <tr>\n",
              "      <th>209</th>\n",
              "      <td>12.30</td>\n",
              "      <td>13.34</td>\n",
              "      <td>0.8684</td>\n",
              "      <td>5.243</td>\n",
              "      <td>2.974</td>\n",
              "      <td>5.637</td>\n",
              "      <td>5.063</td>\n",
              "    </tr>\n",
              "  </tbody>\n",
              "</table>\n",
              "<p>210 rows × 7 columns</p>\n",
              "</div>"
            ],
            "text/plain": [
              "      area  perimeter  ...  asymmetry_coefficient  groove_length\n",
              "0    15.26      14.84  ...                  2.221          5.220\n",
              "1    14.88      14.57  ...                  1.018          4.956\n",
              "2    14.29      14.09  ...                  2.699          4.825\n",
              "3    13.84      13.94  ...                  2.259          4.805\n",
              "4    16.14      14.99  ...                  1.355          5.175\n",
              "..     ...        ...  ...                    ...            ...\n",
              "205  12.19      13.20  ...                  3.631          4.870\n",
              "206  11.23      12.88  ...                  4.325          5.003\n",
              "207  13.20      13.66  ...                  8.315          5.056\n",
              "208  11.84      13.21  ...                  3.598          5.044\n",
              "209  12.30      13.34  ...                  5.637          5.063\n",
              "\n",
              "[210 rows x 7 columns]"
            ]
          },
          "metadata": {
            "tags": []
          },
          "execution_count": 674
        }
      ]
    },
    {
      "cell_type": "code",
      "metadata": {
        "id": "d5BBSXUqCP_1",
        "colab_type": "code",
        "colab": {}
      },
      "source": [
        "# Escogemos la última columna de dataframe como objetivos que serán los tipos de semilla que tendremos\n",
        "\n",
        "target = dataframe['seed_type']"
      ],
      "execution_count": 0,
      "outputs": []
    },
    {
      "cell_type": "code",
      "metadata": {
        "id": "JGjPC11KCgw-",
        "colab_type": "code",
        "outputId": "57c4aef7-97d7-4270-abf7-4e95ac289aa5",
        "colab": {
          "base_uri": "https://localhost:8080/",
          "height": 221
        }
      },
      "source": [
        "target"
      ],
      "execution_count": 676,
      "outputs": [
        {
          "output_type": "execute_result",
          "data": {
            "text/plain": [
              "0      1\n",
              "1      1\n",
              "2      1\n",
              "3      1\n",
              "4      1\n",
              "      ..\n",
              "205    3\n",
              "206    3\n",
              "207    3\n",
              "208    3\n",
              "209    3\n",
              "Name: seed_type, Length: 210, dtype: int64"
            ]
          },
          "metadata": {
            "tags": []
          },
          "execution_count": 676
        }
      ]
    },
    {
      "cell_type": "markdown",
      "metadata": {
        "id": "7WkKdfQ6o265",
        "colab_type": "text"
      },
      "source": [
        "\n",
        "___\n",
        "\n",
        "<br>\n",
        "\n",
        "## 3.3 Creación del árbol de decisión<a name=\"3.3\"></a>"
      ]
    },
    {
      "cell_type": "code",
      "metadata": {
        "id": "TM-8utRFF1F4",
        "colab_type": "code",
        "colab": {}
      },
      "source": [
        "from sklearn.model_selection import train_test_split\n",
        "from sklearn.tree import DecisionTreeClassifier"
      ],
      "execution_count": 0,
      "outputs": []
    },
    {
      "cell_type": "markdown",
      "metadata": {
        "id": "KvxpgR0L0dv9",
        "colab_type": "text"
      },
      "source": [
        "<br>\n",
        "\n",
        "## 3.3.1 Porcentajes aleatorios para los datos <a name=\"3.1\"></a>\n",
        "\n",
        "Le datemos un porcetaje tanto a los datos de entrenamiento como a los datos de validación de tal forma que será aleatoriamente siempre que se ejecute cogiendo datos diferentes.\n",
        "\n",
        "- *data_train , target_train = 70%*\n",
        "- *data_test, target_train = 30%*"
      ]
    },
    {
      "cell_type": "code",
      "metadata": {
        "id": "Y8D5qMaFF7Ev",
        "colab_type": "code",
        "colab": {}
      },
      "source": [
        "# Indicamos el porcentaje que tendrán los datos de entrenamiento y los datos de validación\n",
        "\n",
        "data_train, data_test, target_train, target_test = train_test_split(data, target, test_size=0.3)"
      ],
      "execution_count": 0,
      "outputs": []
    },
    {
      "cell_type": "markdown",
      "metadata": {
        "id": "tf4YC3jF1W6B",
        "colab_type": "text"
      },
      "source": [
        "## 3.3.2 Clasificación del árbol \n",
        "\n",
        "Indicaciones para la clasificación del árbol:\n",
        "\n",
        "- **max_depth :** máximo de profundidad del árbol\n",
        "- **min_samples_leaf :** cada nodo hoja debe tener al menos N cantidad de datos\n",
        "- **min_samples_split :** cada nodo tiene que tener mínimo N datos para poder dividirlo"
      ]
    },
    {
      "cell_type": "code",
      "metadata": {
        "id": "rAoCkC8vGxMv",
        "colab_type": "code",
        "colab": {}
      },
      "source": [
        "# Datos para clasificar el árbol\n",
        "\n",
        "model_tree = DecisionTreeClassifier(random_state=0, max_depth=5, min_samples_leaf=3, min_samples_split=10)"
      ],
      "execution_count": 0,
      "outputs": []
    },
    {
      "cell_type": "markdown",
      "metadata": {
        "id": "pob9mamF15EG",
        "colab_type": "text"
      },
      "source": [
        "## 3.3.3 Entrenamiento del árbol de decisión\n",
        "\n",
        "Entrenaremos el árbol con los datos de entrenamiento para luego usar este árbol ya entrenado con los datos de validación"
      ]
    },
    {
      "cell_type": "code",
      "metadata": {
        "id": "rBVbovkPGz7r",
        "colab_type": "code",
        "colab": {}
      },
      "source": [
        "# Entrenamos el árbol con los datos de entrenamiento\n",
        "\n",
        "model_tree = model_tree.fit(data_train, target_train)"
      ],
      "execution_count": 0,
      "outputs": []
    },
    {
      "cell_type": "code",
      "metadata": {
        "id": "kNmtWvbaFm81",
        "colab_type": "code",
        "colab": {}
      },
      "source": [
        "from sklearn import tree\n",
        "import graphviz"
      ],
      "execution_count": 0,
      "outputs": []
    },
    {
      "cell_type": "markdown",
      "metadata": {
        "id": "WddBBa-I_niI",
        "colab_type": "text"
      },
      "source": [
        "## 3.3.4 Mostar árbol de decisión <a name=\"3.3.4\"></a>"
      ]
    },
    {
      "cell_type": "code",
      "metadata": {
        "id": "oUdP-m1gKAzE",
        "colab_type": "code",
        "colab": {}
      },
      "source": [
        "dot_seed = tree.export_graphviz(model_tree, out_file=None,\n",
        "                                feature_names=data.columns,\n",
        "                                filled=True)\n",
        "\n",
        "graph = graphviz.Source(dot_seed)"
      ],
      "execution_count": 0,
      "outputs": []
    },
    {
      "cell_type": "code",
      "metadata": {
        "id": "OPRmQnhsKcxc",
        "colab_type": "code",
        "outputId": "a558228a-7588-4a17-e305-9eac60332c2a",
        "colab": {
          "base_uri": "https://localhost:8080/",
          "height": 796
        }
      },
      "source": [
        "graph"
      ],
      "execution_count": 683,
      "outputs": [
        {
          "output_type": "execute_result",
          "data": {
            "text/plain": [
              "<graphviz.files.Source at 0x7f933e395f98>"
            ],
            "image/svg+xml": "<?xml version=\"1.0\" encoding=\"UTF-8\" standalone=\"no\"?>\n<!DOCTYPE svg PUBLIC \"-//W3C//DTD SVG 1.1//EN\"\n \"http://www.w3.org/Graphics/SVG/1.1/DTD/svg11.dtd\">\n<!-- Generated by graphviz version 2.40.1 (20161225.0304)\n -->\n<!-- Title: Tree Pages: 1 -->\n<svg width=\"873pt\" height=\"581pt\"\n viewBox=\"0.00 0.00 872.50 581.00\" xmlns=\"http://www.w3.org/2000/svg\" xmlns:xlink=\"http://www.w3.org/1999/xlink\">\n<g id=\"graph0\" class=\"graph\" transform=\"scale(1 1) rotate(0) translate(4 577)\">\n<title>Tree</title>\n<polygon fill=\"#ffffff\" stroke=\"transparent\" points=\"-4,4 -4,-577 868.5,-577 868.5,4 -4,4\"/>\n<!-- 0 -->\n<g id=\"node1\" class=\"node\">\n<title>0</title>\n<polygon fill=\"#faf7fe\" stroke=\"#000000\" points=\"669,-573 511,-573 511,-505 669,-505 669,-573\"/>\n<text text-anchor=\"middle\" x=\"590\" y=\"-557.8\" font-family=\"Times,serif\" font-size=\"14.00\" fill=\"#000000\">groove_length &lt;= 5.573</text>\n<text text-anchor=\"middle\" x=\"590\" y=\"-542.8\" font-family=\"Times,serif\" font-size=\"14.00\" fill=\"#000000\">gini = 0.666</text>\n<text text-anchor=\"middle\" x=\"590\" y=\"-527.8\" font-family=\"Times,serif\" font-size=\"14.00\" fill=\"#000000\">samples = 147</text>\n<text text-anchor=\"middle\" x=\"590\" y=\"-512.8\" font-family=\"Times,serif\" font-size=\"14.00\" fill=\"#000000\">value = [47, 48, 52]</text>\n</g>\n<!-- 1 -->\n<g id=\"node2\" class=\"node\">\n<title>1</title>\n<polygon fill=\"#f1e9fc\" stroke=\"#000000\" points=\"561.5,-469 436.5,-469 436.5,-401 561.5,-401 561.5,-469\"/>\n<text text-anchor=\"middle\" x=\"499\" y=\"-453.8\" font-family=\"Times,serif\" font-size=\"14.00\" fill=\"#000000\">area &lt;= 13.41</text>\n<text text-anchor=\"middle\" x=\"499\" y=\"-438.8\" font-family=\"Times,serif\" font-size=\"14.00\" fill=\"#000000\">gini = 0.518</text>\n<text text-anchor=\"middle\" x=\"499\" y=\"-423.8\" font-family=\"Times,serif\" font-size=\"14.00\" fill=\"#000000\">samples = 100</text>\n<text text-anchor=\"middle\" x=\"499\" y=\"-408.8\" font-family=\"Times,serif\" font-size=\"14.00\" fill=\"#000000\">value = [46, 2, 52]</text>\n</g>\n<!-- 0&#45;&gt;1 -->\n<g id=\"edge1\" class=\"edge\">\n<title>0&#45;&gt;1</title>\n<path fill=\"none\" stroke=\"#000000\" d=\"M560.2032,-504.9465C552.347,-495.968 543.7788,-486.1758 535.6087,-476.8385\"/>\n<polygon fill=\"#000000\" stroke=\"#000000\" points=\"538.0829,-474.351 528.8637,-469.13 532.8148,-478.9606 538.0829,-474.351\"/>\n<text text-anchor=\"middle\" x=\"527.2008\" y=\"-490.3746\" font-family=\"Times,serif\" font-size=\"14.00\" fill=\"#000000\">True</text>\n</g>\n<!-- 14 -->\n<g id=\"node15\" class=\"node\">\n<title>14</title>\n<polygon fill=\"#3de684\" stroke=\"#000000\" points=\"784,-469 580,-469 580,-401 784,-401 784,-469\"/>\n<text text-anchor=\"middle\" x=\"682\" y=\"-453.8\" font-family=\"Times,serif\" font-size=\"14.00\" fill=\"#000000\">asymmetry_coefficient &lt;= 2.074</text>\n<text text-anchor=\"middle\" x=\"682\" y=\"-438.8\" font-family=\"Times,serif\" font-size=\"14.00\" fill=\"#000000\">gini = 0.042</text>\n<text text-anchor=\"middle\" x=\"682\" y=\"-423.8\" font-family=\"Times,serif\" font-size=\"14.00\" fill=\"#000000\">samples = 47</text>\n<text text-anchor=\"middle\" x=\"682\" y=\"-408.8\" font-family=\"Times,serif\" font-size=\"14.00\" fill=\"#000000\">value = [1, 46, 0]</text>\n</g>\n<!-- 0&#45;&gt;14 -->\n<g id=\"edge14\" class=\"edge\">\n<title>0&#45;&gt;14</title>\n<path fill=\"none\" stroke=\"#000000\" d=\"M620.1242,-504.9465C628.0668,-495.968 636.7291,-486.1758 644.989,-476.8385\"/>\n<polygon fill=\"#000000\" stroke=\"#000000\" points=\"647.8038,-478.939 651.8081,-469.13 642.5608,-474.301 647.8038,-478.939\"/>\n<text text-anchor=\"middle\" x=\"653.3358\" y=\"-490.3833\" font-family=\"Times,serif\" font-size=\"14.00\" fill=\"#000000\">False</text>\n</g>\n<!-- 2 -->\n<g id=\"node3\" class=\"node\">\n<title>2</title>\n<polygon fill=\"#995fea\" stroke=\"#000000\" points=\"410,-365 206,-365 206,-297 410,-297 410,-365\"/>\n<text text-anchor=\"middle\" x=\"308\" y=\"-349.8\" font-family=\"Times,serif\" font-size=\"14.00\" fill=\"#000000\">asymmetry_coefficient &lt;= 2.891</text>\n<text text-anchor=\"middle\" x=\"308\" y=\"-334.8\" font-family=\"Times,serif\" font-size=\"14.00\" fill=\"#000000\">gini = 0.271</text>\n<text text-anchor=\"middle\" x=\"308\" y=\"-319.8\" font-family=\"Times,serif\" font-size=\"14.00\" fill=\"#000000\">samples = 62</text>\n<text text-anchor=\"middle\" x=\"308\" y=\"-304.8\" font-family=\"Times,serif\" font-size=\"14.00\" fill=\"#000000\">value = [10, 0, 52]</text>\n</g>\n<!-- 1&#45;&gt;2 -->\n<g id=\"edge2\" class=\"edge\">\n<title>1&#45;&gt;2</title>\n<path fill=\"none\" stroke=\"#000000\" d=\"M436.4595,-400.9465C418.2386,-391.0252 398.1933,-380.1105 379.4666,-369.9138\"/>\n<polygon fill=\"#000000\" stroke=\"#000000\" points=\"381.1373,-366.8383 370.6811,-365.13 377.7898,-372.986 381.1373,-366.8383\"/>\n</g>\n<!-- 11 -->\n<g id=\"node12\" class=\"node\">\n<title>11</title>\n<polygon fill=\"#e68844\" stroke=\"#000000\" points=\"586,-365 428,-365 428,-297 586,-297 586,-365\"/>\n<text text-anchor=\"middle\" x=\"507\" y=\"-349.8\" font-family=\"Times,serif\" font-size=\"14.00\" fill=\"#000000\">nucleus_width &lt;= 3.449</text>\n<text text-anchor=\"middle\" x=\"507\" y=\"-334.8\" font-family=\"Times,serif\" font-size=\"14.00\" fill=\"#000000\">gini = 0.1</text>\n<text text-anchor=\"middle\" x=\"507\" y=\"-319.8\" font-family=\"Times,serif\" font-size=\"14.00\" fill=\"#000000\">samples = 38</text>\n<text text-anchor=\"middle\" x=\"507\" y=\"-304.8\" font-family=\"Times,serif\" font-size=\"14.00\" fill=\"#000000\">value = [36, 2, 0]</text>\n</g>\n<!-- 1&#45;&gt;11 -->\n<g id=\"edge11\" class=\"edge\">\n<title>1&#45;&gt;11</title>\n<path fill=\"none\" stroke=\"#000000\" d=\"M501.6195,-400.9465C502.248,-392.776 502.9283,-383.9318 503.5869,-375.3697\"/>\n<polygon fill=\"#000000\" stroke=\"#000000\" points=\"507.0973,-375.369 504.3746,-365.13 500.1179,-374.8321 507.0973,-375.369\"/>\n</g>\n<!-- 3 -->\n<g id=\"node4\" class=\"node\">\n<title>3</title>\n<polygon fill=\"#f0b78e\" stroke=\"#000000\" points=\"247.5,-261 112.5,-261 112.5,-193 247.5,-193 247.5,-261\"/>\n<text text-anchor=\"middle\" x=\"180\" y=\"-245.8\" font-family=\"Times,serif\" font-size=\"14.00\" fill=\"#000000\">perimeter &lt;= 13.485</text>\n<text text-anchor=\"middle\" x=\"180\" y=\"-230.8\" font-family=\"Times,serif\" font-size=\"14.00\" fill=\"#000000\">gini = 0.42</text>\n<text text-anchor=\"middle\" x=\"180\" y=\"-215.8\" font-family=\"Times,serif\" font-size=\"14.00\" fill=\"#000000\">samples = 10</text>\n<text text-anchor=\"middle\" x=\"180\" y=\"-200.8\" font-family=\"Times,serif\" font-size=\"14.00\" fill=\"#000000\">value = [7, 0, 3]</text>\n</g>\n<!-- 2&#45;&gt;3 -->\n<g id=\"edge3\" class=\"edge\">\n<title>2&#45;&gt;3</title>\n<path fill=\"none\" stroke=\"#000000\" d=\"M266.088,-296.9465C254.485,-287.519 241.7779,-277.1946 229.7741,-267.4415\"/>\n<polygon fill=\"#000000\" stroke=\"#000000\" points=\"231.9744,-264.7196 222.0061,-261.13 227.5602,-270.1524 231.9744,-264.7196\"/>\n</g>\n<!-- 6 -->\n<g id=\"node7\" class=\"node\">\n<title>6</title>\n<polygon fill=\"#8945e7\" stroke=\"#000000\" points=\"382.5,-261 265.5,-261 265.5,-193 382.5,-193 382.5,-261\"/>\n<text text-anchor=\"middle\" x=\"324\" y=\"-245.8\" font-family=\"Times,serif\" font-size=\"14.00\" fill=\"#000000\">area &lt;= 12.71</text>\n<text text-anchor=\"middle\" x=\"324\" y=\"-230.8\" font-family=\"Times,serif\" font-size=\"14.00\" fill=\"#000000\">gini = 0.109</text>\n<text text-anchor=\"middle\" x=\"324\" y=\"-215.8\" font-family=\"Times,serif\" font-size=\"14.00\" fill=\"#000000\">samples = 52</text>\n<text text-anchor=\"middle\" x=\"324\" y=\"-200.8\" font-family=\"Times,serif\" font-size=\"14.00\" fill=\"#000000\">value = [3, 0, 49]</text>\n</g>\n<!-- 2&#45;&gt;6 -->\n<g id=\"edge6\" class=\"edge\">\n<title>2&#45;&gt;6</title>\n<path fill=\"none\" stroke=\"#000000\" d=\"M313.239,-296.9465C314.5098,-288.6863 315.8866,-279.7374 317.2173,-271.0875\"/>\n<polygon fill=\"#000000\" stroke=\"#000000\" points=\"320.6879,-271.5459 318.7492,-261.13 313.7693,-270.4815 320.6879,-271.5459\"/>\n</g>\n<!-- 4 -->\n<g id=\"node5\" class=\"node\">\n<title>4</title>\n<polygon fill=\"#d5bdf6\" stroke=\"#000000\" points=\"110,-149.5 0,-149.5 0,-96.5 110,-96.5 110,-149.5\"/>\n<text text-anchor=\"middle\" x=\"55\" y=\"-134.3\" font-family=\"Times,serif\" font-size=\"14.00\" fill=\"#000000\">gini = 0.48</text>\n<text text-anchor=\"middle\" x=\"55\" y=\"-119.3\" font-family=\"Times,serif\" font-size=\"14.00\" fill=\"#000000\">samples = 5</text>\n<text text-anchor=\"middle\" x=\"55\" y=\"-104.3\" font-family=\"Times,serif\" font-size=\"14.00\" fill=\"#000000\">value = [2, 0, 3]</text>\n</g>\n<!-- 3&#45;&gt;4 -->\n<g id=\"edge4\" class=\"edge\">\n<title>3&#45;&gt;4</title>\n<path fill=\"none\" stroke=\"#000000\" d=\"M139.0703,-192.9465C124.9045,-181.1606 109.0537,-167.9726 94.9662,-156.2519\"/>\n<polygon fill=\"#000000\" stroke=\"#000000\" points=\"96.8275,-153.2474 86.9016,-149.5422 92.3504,-158.6285 96.8275,-153.2474\"/>\n</g>\n<!-- 5 -->\n<g id=\"node6\" class=\"node\">\n<title>5</title>\n<polygon fill=\"#e58139\" stroke=\"#000000\" points=\"238,-149.5 128,-149.5 128,-96.5 238,-96.5 238,-149.5\"/>\n<text text-anchor=\"middle\" x=\"183\" y=\"-134.3\" font-family=\"Times,serif\" font-size=\"14.00\" fill=\"#000000\">gini = 0.0</text>\n<text text-anchor=\"middle\" x=\"183\" y=\"-119.3\" font-family=\"Times,serif\" font-size=\"14.00\" fill=\"#000000\">samples = 5</text>\n<text text-anchor=\"middle\" x=\"183\" y=\"-104.3\" font-family=\"Times,serif\" font-size=\"14.00\" fill=\"#000000\">value = [5, 0, 0]</text>\n</g>\n<!-- 3&#45;&gt;5 -->\n<g id=\"edge5\" class=\"edge\">\n<title>3&#45;&gt;5</title>\n<path fill=\"none\" stroke=\"#000000\" d=\"M180.9823,-192.9465C181.2905,-182.2621 181.632,-170.4254 181.945,-159.5742\"/>\n<polygon fill=\"#000000\" stroke=\"#000000\" points=\"185.4445,-159.639 182.2344,-149.5422 178.4474,-159.4371 185.4445,-159.639\"/>\n</g>\n<!-- 7 -->\n<g id=\"node8\" class=\"node\">\n<title>7</title>\n<polygon fill=\"#8139e5\" stroke=\"#000000\" points=\"379.5,-149.5 262.5,-149.5 262.5,-96.5 379.5,-96.5 379.5,-149.5\"/>\n<text text-anchor=\"middle\" x=\"321\" y=\"-134.3\" font-family=\"Times,serif\" font-size=\"14.00\" fill=\"#000000\">gini = 0.0</text>\n<text text-anchor=\"middle\" x=\"321\" y=\"-119.3\" font-family=\"Times,serif\" font-size=\"14.00\" fill=\"#000000\">samples = 41</text>\n<text text-anchor=\"middle\" x=\"321\" y=\"-104.3\" font-family=\"Times,serif\" font-size=\"14.00\" fill=\"#000000\">value = [0, 0, 41]</text>\n</g>\n<!-- 6&#45;&gt;7 -->\n<g id=\"edge7\" class=\"edge\">\n<title>6&#45;&gt;7</title>\n<path fill=\"none\" stroke=\"#000000\" d=\"M323.0177,-192.9465C322.7095,-182.2621 322.368,-170.4254 322.055,-159.5742\"/>\n<polygon fill=\"#000000\" stroke=\"#000000\" points=\"325.5526,-159.4371 321.7656,-149.5422 318.5555,-159.639 325.5526,-159.4371\"/>\n</g>\n<!-- 8 -->\n<g id=\"node9\" class=\"node\">\n<title>8</title>\n<polygon fill=\"#b083ef\" stroke=\"#000000\" points=\"602,-157 398,-157 398,-89 602,-89 602,-157\"/>\n<text text-anchor=\"middle\" x=\"500\" y=\"-141.8\" font-family=\"Times,serif\" font-size=\"14.00\" fill=\"#000000\">asymmetry_coefficient &lt;= 4.414</text>\n<text text-anchor=\"middle\" x=\"500\" y=\"-126.8\" font-family=\"Times,serif\" font-size=\"14.00\" fill=\"#000000\">gini = 0.397</text>\n<text text-anchor=\"middle\" x=\"500\" y=\"-111.8\" font-family=\"Times,serif\" font-size=\"14.00\" fill=\"#000000\">samples = 11</text>\n<text text-anchor=\"middle\" x=\"500\" y=\"-96.8\" font-family=\"Times,serif\" font-size=\"14.00\" fill=\"#000000\">value = [3, 0, 8]</text>\n</g>\n<!-- 6&#45;&gt;8 -->\n<g id=\"edge8\" class=\"edge\">\n<title>6&#45;&gt;8</title>\n<path fill=\"none\" stroke=\"#000000\" d=\"M381.629,-192.9465C398.1909,-183.1599 416.3888,-172.4066 433.4425,-162.3294\"/>\n<polygon fill=\"#000000\" stroke=\"#000000\" points=\"435.4128,-165.2306 442.2415,-157.13 431.8517,-159.2041 435.4128,-165.2306\"/>\n</g>\n<!-- 9 -->\n<g id=\"node10\" class=\"node\">\n<title>9</title>\n<polygon fill=\"#e58139\" stroke=\"#000000\" points=\"491,-53 381,-53 381,0 491,0 491,-53\"/>\n<text text-anchor=\"middle\" x=\"436\" y=\"-37.8\" font-family=\"Times,serif\" font-size=\"14.00\" fill=\"#000000\">gini = 0.0</text>\n<text text-anchor=\"middle\" x=\"436\" y=\"-22.8\" font-family=\"Times,serif\" font-size=\"14.00\" fill=\"#000000\">samples = 3</text>\n<text text-anchor=\"middle\" x=\"436\" y=\"-7.8\" font-family=\"Times,serif\" font-size=\"14.00\" fill=\"#000000\">value = [3, 0, 0]</text>\n</g>\n<!-- 8&#45;&gt;9 -->\n<g id=\"edge9\" class=\"edge\">\n<title>8&#45;&gt;9</title>\n<path fill=\"none\" stroke=\"#000000\" d=\"M477.436,-88.9777C471.6059,-80.187 465.3169,-70.7044 459.443,-61.8477\"/>\n<polygon fill=\"#000000\" stroke=\"#000000\" points=\"462.1838,-59.6478 453.7399,-53.2485 456.3502,-63.5167 462.1838,-59.6478\"/>\n</g>\n<!-- 10 -->\n<g id=\"node11\" class=\"node\">\n<title>10</title>\n<polygon fill=\"#8139e5\" stroke=\"#000000\" points=\"619,-53 509,-53 509,0 619,0 619,-53\"/>\n<text text-anchor=\"middle\" x=\"564\" y=\"-37.8\" font-family=\"Times,serif\" font-size=\"14.00\" fill=\"#000000\">gini = 0.0</text>\n<text text-anchor=\"middle\" x=\"564\" y=\"-22.8\" font-family=\"Times,serif\" font-size=\"14.00\" fill=\"#000000\">samples = 8</text>\n<text text-anchor=\"middle\" x=\"564\" y=\"-7.8\" font-family=\"Times,serif\" font-size=\"14.00\" fill=\"#000000\">value = [0, 0, 8]</text>\n</g>\n<!-- 8&#45;&gt;10 -->\n<g id=\"edge10\" class=\"edge\">\n<title>8&#45;&gt;10</title>\n<path fill=\"none\" stroke=\"#000000\" d=\"M522.564,-88.9777C528.3941,-80.187 534.6831,-70.7044 540.557,-61.8477\"/>\n<polygon fill=\"#000000\" stroke=\"#000000\" points=\"543.6498,-63.5167 546.2601,-53.2485 537.8162,-59.6478 543.6498,-63.5167\"/>\n</g>\n<!-- 12 -->\n<g id=\"node13\" class=\"node\">\n<title>12</title>\n<polygon fill=\"#e58139\" stroke=\"#000000\" points=\"549.5,-253.5 432.5,-253.5 432.5,-200.5 549.5,-200.5 549.5,-253.5\"/>\n<text text-anchor=\"middle\" x=\"491\" y=\"-238.3\" font-family=\"Times,serif\" font-size=\"14.00\" fill=\"#000000\">gini = 0.0</text>\n<text text-anchor=\"middle\" x=\"491\" y=\"-223.3\" font-family=\"Times,serif\" font-size=\"14.00\" fill=\"#000000\">samples = 32</text>\n<text text-anchor=\"middle\" x=\"491\" y=\"-208.3\" font-family=\"Times,serif\" font-size=\"14.00\" fill=\"#000000\">value = [32, 0, 0]</text>\n</g>\n<!-- 11&#45;&gt;12 -->\n<g id=\"edge12\" class=\"edge\">\n<title>11&#45;&gt;12</title>\n<path fill=\"none\" stroke=\"#000000\" d=\"M501.761,-296.9465C500.1172,-286.2621 498.2962,-274.4254 496.6268,-263.5742\"/>\n<polygon fill=\"#000000\" stroke=\"#000000\" points=\"500.0634,-262.8937 495.0834,-253.5422 493.1448,-263.9581 500.0634,-262.8937\"/>\n</g>\n<!-- 13 -->\n<g id=\"node14\" class=\"node\">\n<title>13</title>\n<polygon fill=\"#f2c09c\" stroke=\"#000000\" points=\"678,-253.5 568,-253.5 568,-200.5 678,-200.5 678,-253.5\"/>\n<text text-anchor=\"middle\" x=\"623\" y=\"-238.3\" font-family=\"Times,serif\" font-size=\"14.00\" fill=\"#000000\">gini = 0.444</text>\n<text text-anchor=\"middle\" x=\"623\" y=\"-223.3\" font-family=\"Times,serif\" font-size=\"14.00\" fill=\"#000000\">samples = 6</text>\n<text text-anchor=\"middle\" x=\"623\" y=\"-208.3\" font-family=\"Times,serif\" font-size=\"14.00\" fill=\"#000000\">value = [4, 2, 0]</text>\n</g>\n<!-- 11&#45;&gt;13 -->\n<g id=\"edge13\" class=\"edge\">\n<title>11&#45;&gt;13</title>\n<path fill=\"none\" stroke=\"#000000\" d=\"M544.9827,-296.9465C558.1286,-285.1606 572.8382,-271.9726 585.9113,-260.2519\"/>\n<polygon fill=\"#000000\" stroke=\"#000000\" points=\"588.286,-262.8236 593.3953,-253.5422 583.6131,-257.6116 588.286,-262.8236\"/>\n</g>\n<!-- 15 -->\n<g id=\"node16\" class=\"node\">\n<title>15</title>\n<polygon fill=\"#7beeab\" stroke=\"#000000\" points=\"729,-357.5 619,-357.5 619,-304.5 729,-304.5 729,-357.5\"/>\n<text text-anchor=\"middle\" x=\"674\" y=\"-342.3\" font-family=\"Times,serif\" font-size=\"14.00\" fill=\"#000000\">gini = 0.375</text>\n<text text-anchor=\"middle\" x=\"674\" y=\"-327.3\" font-family=\"Times,serif\" font-size=\"14.00\" fill=\"#000000\">samples = 4</text>\n<text text-anchor=\"middle\" x=\"674\" y=\"-312.3\" font-family=\"Times,serif\" font-size=\"14.00\" fill=\"#000000\">value = [1, 3, 0]</text>\n</g>\n<!-- 14&#45;&gt;15 -->\n<g id=\"edge15\" class=\"edge\">\n<title>14&#45;&gt;15</title>\n<path fill=\"none\" stroke=\"#000000\" d=\"M679.3805,-400.9465C678.5586,-390.2621 677.6481,-378.4254 676.8134,-367.5742\"/>\n<polygon fill=\"#000000\" stroke=\"#000000\" points=\"680.2985,-367.2442 676.0417,-357.5422 673.3191,-367.7812 680.2985,-367.2442\"/>\n</g>\n<!-- 16 -->\n<g id=\"node17\" class=\"node\">\n<title>16</title>\n<polygon fill=\"#39e581\" stroke=\"#000000\" points=\"864.5,-357.5 747.5,-357.5 747.5,-304.5 864.5,-304.5 864.5,-357.5\"/>\n<text text-anchor=\"middle\" x=\"806\" y=\"-342.3\" font-family=\"Times,serif\" font-size=\"14.00\" fill=\"#000000\">gini = 0.0</text>\n<text text-anchor=\"middle\" x=\"806\" y=\"-327.3\" font-family=\"Times,serif\" font-size=\"14.00\" fill=\"#000000\">samples = 43</text>\n<text text-anchor=\"middle\" x=\"806\" y=\"-312.3\" font-family=\"Times,serif\" font-size=\"14.00\" fill=\"#000000\">value = [0, 43, 0]</text>\n</g>\n<!-- 14&#45;&gt;16 -->\n<g id=\"edge16\" class=\"edge\">\n<title>14&#45;&gt;16</title>\n<path fill=\"none\" stroke=\"#000000\" d=\"M722.6022,-400.9465C736.6547,-389.1606 752.3788,-375.9726 766.3535,-364.2519\"/>\n<polygon fill=\"#000000\" stroke=\"#000000\" points=\"768.9408,-366.65 774.3536,-357.5422 764.4425,-361.2866 768.9408,-366.65\"/>\n</g>\n</g>\n</svg>\n"
          },
          "metadata": {
            "tags": []
          },
          "execution_count": 683
        }
      ]
    },
    {
      "cell_type": "markdown",
      "metadata": {
        "id": "gtrJOTCes-NU",
        "colab_type": "text"
      },
      "source": [
        "\n",
        "___\n",
        "\n",
        "<br>\n",
        "\n",
        "## 3.4 Predicciones\n",
        "\n",
        "En este apartado sacaremos las precisiones que hemos conseguido tanto con el conjunto de validacion como el de entrenamiento y veremos también la *matriz de confusión*\n",
        "\n",
        "## 3.4.1  Predicción sobre conjunto de validación"
      ]
    },
    {
      "cell_type": "code",
      "metadata": {
        "id": "o4vObDAbH4Pt",
        "colab_type": "code",
        "colab": {}
      },
      "source": [
        "from sklearn.metrics import classification_report, confusion_matrix"
      ],
      "execution_count": 0,
      "outputs": []
    },
    {
      "cell_type": "code",
      "metadata": {
        "id": "1ZPJT5tBHfrU",
        "colab_type": "code",
        "colab": {}
      },
      "source": [
        "# Predecimos los datos objetivos con el árbol creado anterioremente\n",
        "\n",
        "predictions_test = model_tree.predict(data_test)"
      ],
      "execution_count": 0,
      "outputs": []
    },
    {
      "cell_type": "markdown",
      "metadata": {
        "id": "aMRaV63CBWxN",
        "colab_type": "text"
      },
      "source": [
        "<br>\n",
        "\n",
        "### Precisión <a name=\"precision_test\"></a>"
      ]
    },
    {
      "cell_type": "code",
      "metadata": {
        "colab_type": "code",
        "outputId": "709efc34-5fad-4534-e915-c4d8cd419535",
        "id": "fJ-m9ZPTrqHp",
        "colab": {
          "base_uri": "https://localhost:8080/",
          "height": 187
        }
      },
      "source": [
        "print(classification_report(target_test, predictions_test))"
      ],
      "execution_count": 688,
      "outputs": [
        {
          "output_type": "stream",
          "text": [
            "              precision    recall  f1-score   support\n",
            "\n",
            "           1       1.00      0.87      0.93        23\n",
            "           2       1.00      1.00      1.00        22\n",
            "           3       0.86      1.00      0.92        18\n",
            "\n",
            "    accuracy                           0.95        63\n",
            "   macro avg       0.95      0.96      0.95        63\n",
            "weighted avg       0.96      0.95      0.95        63\n",
            "\n"
          ],
          "name": "stdout"
        }
      ]
    },
    {
      "cell_type": "markdown",
      "metadata": {
        "id": "2vtEa26xBlfL",
        "colab_type": "text"
      },
      "source": [
        "## Matriz de Confusión <a name=\"confusión_test\"></a>"
      ]
    },
    {
      "cell_type": "code",
      "metadata": {
        "id": "xKlDK1F6IInw",
        "colab_type": "code",
        "outputId": "b591217c-b049-4614-a6d5-522b5cbd459b",
        "colab": {
          "base_uri": "https://localhost:8080/",
          "height": 68
        }
      },
      "source": [
        "print(confusion_matrix(target_test, predictions_test))"
      ],
      "execution_count": 689,
      "outputs": [
        {
          "output_type": "stream",
          "text": [
            "[[20  0  3]\n",
            " [ 0 22  0]\n",
            " [ 0  0 18]]\n"
          ],
          "name": "stdout"
        }
      ]
    },
    {
      "cell_type": "markdown",
      "metadata": {
        "id": "27mAO5wBuQVF",
        "colab_type": "text"
      },
      "source": [
        "\n",
        "___\n",
        "\n",
        "<br>\n",
        "\n",
        "## 3.4.2 Predicciones sobre conjunto de entrenamiento"
      ]
    },
    {
      "cell_type": "code",
      "metadata": {
        "id": "-RZ6gcg3scEY",
        "colab_type": "code",
        "colab": {}
      },
      "source": [
        "predictions_train = model_tree.predict(data_train)"
      ],
      "execution_count": 0,
      "outputs": []
    },
    {
      "cell_type": "markdown",
      "metadata": {
        "id": "uAQVH55UCNWS",
        "colab_type": "text"
      },
      "source": [
        "### Precisión <a name=\"precision_train\"></a>"
      ]
    },
    {
      "cell_type": "code",
      "metadata": {
        "id": "FiCxdngkuxy3",
        "colab_type": "code",
        "colab": {
          "base_uri": "https://localhost:8080/",
          "height": 187
        },
        "outputId": "3b6bf98d-c230-48c0-cf79-80dc43670f74"
      },
      "source": [
        "print(classification_report(target_train, predictions_train))"
      ],
      "execution_count": 693,
      "outputs": [
        {
          "output_type": "stream",
          "text": [
            "              precision    recall  f1-score   support\n",
            "\n",
            "           1       0.96      0.94      0.95        47\n",
            "           2       0.98      0.96      0.97        48\n",
            "           3       0.96      1.00      0.98        52\n",
            "\n",
            "    accuracy                           0.97       147\n",
            "   macro avg       0.97      0.96      0.97       147\n",
            "weighted avg       0.97      0.97      0.97       147\n",
            "\n"
          ],
          "name": "stdout"
        }
      ]
    },
    {
      "cell_type": "markdown",
      "metadata": {
        "id": "FWT2QRDZCSTr",
        "colab_type": "text"
      },
      "source": [
        "### Matriz de Confusión <a name=\"confusion_train\"></a>"
      ]
    },
    {
      "cell_type": "code",
      "metadata": {
        "id": "gTC-OjHRu2l8",
        "colab_type": "code",
        "colab": {
          "base_uri": "https://localhost:8080/",
          "height": 68
        },
        "outputId": "575a7196-292c-4430-af91-fede9a0b31dc"
      },
      "source": [
        "print(confusion_matrix(target_train, predictions_train))"
      ],
      "execution_count": 694,
      "outputs": [
        {
          "output_type": "stream",
          "text": [
            "[[44  1  2]\n",
            " [ 2 46  0]\n",
            " [ 0  0 52]]\n"
          ],
          "name": "stdout"
        }
      ]
    },
    {
      "cell_type": "markdown",
      "metadata": {
        "id": "z5xTnGXM5xCm",
        "colab_type": "text"
      },
      "source": [
        "___\n",
        "___\n",
        "\n",
        "<br>\n",
        "\n",
        "# Preguntas\n"
      ]
    },
    {
      "cell_type": "markdown",
      "metadata": {
        "id": "SIBv3un1C3Sk",
        "colab_type": "text"
      },
      "source": [
        "## **1.** Seleccionar aleatoriamente el 70% de los datos como conjunto de entrenamiento. Reservar el 30% restante como conjunto de validación.\n",
        "\n",
        "- Respuesta en el siguiente apartado :\n",
        "\n",
        "  - [3.1 Porcentaje aleatorio para los datos](#3.1)"
      ]
    },
    {
      "cell_type": "markdown",
      "metadata": {
        "id": "B-bWpplUC89e",
        "colab_type": "text"
      },
      "source": [
        "___\n",
        "\n",
        "<br>\n",
        "\n",
        "## **2.** Obtener el árbol de clasificación usando el conjunto de entrenamiento.\n",
        "\n",
        "- Respuesta en los siguientes apartados :\n",
        "\n",
        "  - Código de la creación del árbol : [3.3 Creación árbol de decisión](#3.3)\n",
        "\n",
        "  - Árbol dibujado : [3.3.4 Mostrar árbol de decisión](#3.3.4)\n",
        "\n",
        "### **(a)** ¿Cuál es la precisión del árbol sobre el conjunto de validación? \n",
        "\n",
        "- Respuestas en el siguiente apartado:\n",
        "\n",
        "  - [3.4.1 Precisión del conjunto de validación](#precision_test)\n",
        "\n",
        "  - Podemos ver que tenemso una precisión perfecta con valor de 1 para las semillas de tipo 1 y 2 y un 0.86 para las de tipo 3.\n",
        "\n",
        "### ¿Y sobre el conjunto de entrenamiento? \n",
        "\n",
        "- [3.4.1 Precisión del conjunto de entrenamiento](#precision_train)\n",
        "- Podemos ver que tenemso una precisión casi perfecta con valor de 0.96 para las semillas de tipo 1 y 3 y un 0.98 para las de tipo 2.\n",
        "\n",
        "### ¿Qué sugieren estos valores?\n",
        "\n",
        "- Con estos valores podemos observar que el entrenamiento ha sido muy bueno ya que tenemos una gran precisión a la hora de clasificar las semillas con muy poco error teniendo casi una precisión de 1, aunque ya veremos en los siguiente apartados que tener una precisión de 1 no significa que siempre acierte\n",
        "\n",
        "\n",
        "### **(b)** Sobre el conjunto de validación, ¿qué semillas clasifica mejor?, ¿cómo lo has deducido?\n",
        "\n",
        "- En un principio se diría que tanto la semilla de tipo 1 y 2 (Kama y Rosa) se clasificarían de igual manera con uan precisión perfecta ya que nos da lo siguiente:\n",
        "\n",
        "  - Precisión de la semilla Rosa en validación : 100%\n",
        "  - Precisión de la semilla Kama en validación : 100%\n",
        "\n",
        "- Pero si observamos la matriz de confusión podemos observar que las semillas de tipo Rosa las clasifica mejor ya que las de tipo Kama tiene falsos positivos en el que clasifico 3 semillas de tipo 3 (Canadiense) como tipo Kama al contrario de la semilla Rosa que ha tenido una clasificación perfecta. \n",
        "\n",
        "\n",
        "### **(c)** ¿Dónde hay más falsos positivos?\n",
        "\n",
        "- En este caso ha sido la semilla 1 (Kama) ya que clasifico 3 semillas de tipo Canadiense como una de tipo Kama."
      ]
    },
    {
      "cell_type": "markdown",
      "metadata": {
        "id": "Fg79ZtZeDFqp",
        "colab_type": "text"
      },
      "source": [
        "___\n",
        "\n",
        "<br>\n",
        "\n",
        "## **3.** ¿Emplea el árbol todos los atributos? Explica por qué descarta algunos atributos.\n",
        "\n",
        "- No ya que el árbol se genera con los atributos que mejor clasifiquen los datos que tiene en el entrenamiento.\n",
        " \n",
        "- Esto hace que árbol cambie cada vez que se ejecute ya que se crea con un conjunto aleatorio de datos y alomejor en otra ejecución con otros datos usa atributos que anteriormente no usó por que clasifica a estos datos de mejor manera con esos atributos"
      ]
    }
  ]
}