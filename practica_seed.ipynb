{
  "nbformat": 4,
  "nbformat_minor": 0,
  "metadata": {
    "colab": {
      "name": "practica_seed.ipynb",
      "provenance": [],
      "collapsed_sections": [],
      "toc_visible": true
    },
    "kernelspec": {
      "name": "python3",
      "display_name": "Python 3"
    }
  },
  "cells": [
    {
      "cell_type": "markdown",
      "metadata": {
        "id": "rhrzQM31QZMD",
        "colab_type": "text"
      },
      "source": [
        "# **Tratamiento Inteligente de Datos**\n",
        "# Práctica Inidividual\n",
        "# Árbol de decisión\n",
        "____"
      ]
    },
    {
      "cell_type": "markdown",
      "metadata": {
        "id": "TI8VdHTuVUqB",
        "colab_type": "text"
      },
      "source": [
        "# 1. Fichero y librerías necesarias\n",
        "\n",
        "## 1.1 Fichero Necesario\n",
        "\n",
        "- **seeds.txt :** Fichero con el que se trabajará en esta práctica\n",
        "\n",
        "## 1.2 Liberías Necesarias\n",
        "\n",
        "- **Pandas :** Proceso de tratar los datos como leer el dataframe, modificarlos, acceder a ellos, etc...\n",
        "- **Sklearn :** librería para machine learning en la que podremos crear *árboles de decisión*, entrenar el modelo, etc...\n",
        "- **Graphviz :**  Librería para poder mostrar el árbol de decisión"
      ]
    },
    {
      "cell_type": "markdown",
      "metadata": {
        "id": "Li_01Q7xXBVk",
        "colab_type": "text"
      },
      "source": [
        "## 2. Instalación de paquetes\n",
        "\n"
      ]
    },
    {
      "cell_type": "code",
      "metadata": {
        "id": "9BGpNVnXziSe",
        "colab_type": "code",
        "outputId": "f6a5149a-3ab9-4580-b93a-7b399aa22929",
        "colab": {
          "base_uri": "https://localhost:8080/",
          "height": 187
        }
      },
      "source": [
        "pip install pandas sklearn graphviz"
      ],
      "execution_count": 441,
      "outputs": [
        {
          "output_type": "stream",
          "text": [
            "Requirement already satisfied: pandas in /usr/local/lib/python3.6/dist-packages (0.25.3)\n",
            "Requirement already satisfied: sklearn in /usr/local/lib/python3.6/dist-packages (0.0)\n",
            "Requirement already satisfied: graphviz in /usr/local/lib/python3.6/dist-packages (0.10.1)\n",
            "Requirement already satisfied: pytz>=2017.2 in /usr/local/lib/python3.6/dist-packages (from pandas) (2018.9)\n",
            "Requirement already satisfied: python-dateutil>=2.6.1 in /usr/local/lib/python3.6/dist-packages (from pandas) (2.8.1)\n",
            "Requirement already satisfied: numpy>=1.13.3 in /usr/local/lib/python3.6/dist-packages (from pandas) (1.18.2)\n",
            "Requirement already satisfied: scikit-learn in /usr/local/lib/python3.6/dist-packages (from sklearn) (0.22.2.post1)\n",
            "Requirement already satisfied: six>=1.5 in /usr/local/lib/python3.6/dist-packages (from python-dateutil>=2.6.1->pandas) (1.12.0)\n",
            "Requirement already satisfied: scipy>=0.17.0 in /usr/local/lib/python3.6/dist-packages (from scikit-learn->sklearn) (1.4.1)\n",
            "Requirement already satisfied: joblib>=0.11 in /usr/local/lib/python3.6/dist-packages (from scikit-learn->sklearn) (0.14.1)\n"
          ],
          "name": "stdout"
        }
      ]
    },
    {
      "cell_type": "markdown",
      "metadata": {
        "id": "-SJ0cKxzYl54",
        "colab_type": "text"
      },
      "source": [
        "\n",
        "___\n",
        "\n",
        "<br>\n",
        "\n",
        "# 3. Comienzo de la práctica\n",
        "\n",
        "## 3.1 Creación del Dataframe\n",
        "\n",
        "Importamos la librerías **pandas** con la que leeremos el fichero y creamos nuestro dataframe"
      ]
    },
    {
      "cell_type": "code",
      "metadata": {
        "id": "Y2gicmGl4_uR",
        "colab_type": "code",
        "colab": {}
      },
      "source": [
        "import pandas as pd"
      ],
      "execution_count": 0,
      "outputs": []
    },
    {
      "cell_type": "code",
      "metadata": {
        "id": "ieRsku1G7Onv",
        "colab_type": "code",
        "colab": {}
      },
      "source": [
        "dataframe_file = 'seeds.txt' \n",
        "\n",
        "# Leemos el fichero y le introducimos los nombres de las columnas que tendremos\n",
        "\n",
        "dataframe = pd.read_csv(dataframe_file, delimiter=\"\\s+\", names=['area', 'perimeter','compactibility', 'nucleus_length', 'nucleus_width', 'asymmetry_coefficient', 'groove_length', 'seed_type'])"
      ],
      "execution_count": 0,
      "outputs": []
    },
    {
      "cell_type": "code",
      "metadata": {
        "id": "YCU4frlO29Bu",
        "colab_type": "code",
        "outputId": "a99e1244-1573-451e-c665-7fc2bfef56cc",
        "colab": {
          "base_uri": "https://localhost:8080/",
          "height": 419
        }
      },
      "source": [
        "#Visualizamos el dataframe\n",
        "\n",
        "dataframe"
      ],
      "execution_count": 444,
      "outputs": [
        {
          "output_type": "execute_result",
          "data": {
            "text/html": [
              "<div>\n",
              "<style scoped>\n",
              "    .dataframe tbody tr th:only-of-type {\n",
              "        vertical-align: middle;\n",
              "    }\n",
              "\n",
              "    .dataframe tbody tr th {\n",
              "        vertical-align: top;\n",
              "    }\n",
              "\n",
              "    .dataframe thead th {\n",
              "        text-align: right;\n",
              "    }\n",
              "</style>\n",
              "<table border=\"1\" class=\"dataframe\">\n",
              "  <thead>\n",
              "    <tr style=\"text-align: right;\">\n",
              "      <th></th>\n",
              "      <th>area</th>\n",
              "      <th>perimeter</th>\n",
              "      <th>compactibility</th>\n",
              "      <th>nucleus_length</th>\n",
              "      <th>nucleus_width</th>\n",
              "      <th>asymmetry_coefficient</th>\n",
              "      <th>groove_length</th>\n",
              "      <th>seed_type</th>\n",
              "    </tr>\n",
              "  </thead>\n",
              "  <tbody>\n",
              "    <tr>\n",
              "      <th>0</th>\n",
              "      <td>15.26</td>\n",
              "      <td>14.84</td>\n",
              "      <td>0.8710</td>\n",
              "      <td>5.763</td>\n",
              "      <td>3.312</td>\n",
              "      <td>2.221</td>\n",
              "      <td>5.220</td>\n",
              "      <td>1</td>\n",
              "    </tr>\n",
              "    <tr>\n",
              "      <th>1</th>\n",
              "      <td>14.88</td>\n",
              "      <td>14.57</td>\n",
              "      <td>0.8811</td>\n",
              "      <td>5.554</td>\n",
              "      <td>3.333</td>\n",
              "      <td>1.018</td>\n",
              "      <td>4.956</td>\n",
              "      <td>1</td>\n",
              "    </tr>\n",
              "    <tr>\n",
              "      <th>2</th>\n",
              "      <td>14.29</td>\n",
              "      <td>14.09</td>\n",
              "      <td>0.9050</td>\n",
              "      <td>5.291</td>\n",
              "      <td>3.337</td>\n",
              "      <td>2.699</td>\n",
              "      <td>4.825</td>\n",
              "      <td>1</td>\n",
              "    </tr>\n",
              "    <tr>\n",
              "      <th>3</th>\n",
              "      <td>13.84</td>\n",
              "      <td>13.94</td>\n",
              "      <td>0.8955</td>\n",
              "      <td>5.324</td>\n",
              "      <td>3.379</td>\n",
              "      <td>2.259</td>\n",
              "      <td>4.805</td>\n",
              "      <td>1</td>\n",
              "    </tr>\n",
              "    <tr>\n",
              "      <th>4</th>\n",
              "      <td>16.14</td>\n",
              "      <td>14.99</td>\n",
              "      <td>0.9034</td>\n",
              "      <td>5.658</td>\n",
              "      <td>3.562</td>\n",
              "      <td>1.355</td>\n",
              "      <td>5.175</td>\n",
              "      <td>1</td>\n",
              "    </tr>\n",
              "    <tr>\n",
              "      <th>...</th>\n",
              "      <td>...</td>\n",
              "      <td>...</td>\n",
              "      <td>...</td>\n",
              "      <td>...</td>\n",
              "      <td>...</td>\n",
              "      <td>...</td>\n",
              "      <td>...</td>\n",
              "      <td>...</td>\n",
              "    </tr>\n",
              "    <tr>\n",
              "      <th>205</th>\n",
              "      <td>12.19</td>\n",
              "      <td>13.20</td>\n",
              "      <td>0.8783</td>\n",
              "      <td>5.137</td>\n",
              "      <td>2.981</td>\n",
              "      <td>3.631</td>\n",
              "      <td>4.870</td>\n",
              "      <td>3</td>\n",
              "    </tr>\n",
              "    <tr>\n",
              "      <th>206</th>\n",
              "      <td>11.23</td>\n",
              "      <td>12.88</td>\n",
              "      <td>0.8511</td>\n",
              "      <td>5.140</td>\n",
              "      <td>2.795</td>\n",
              "      <td>4.325</td>\n",
              "      <td>5.003</td>\n",
              "      <td>3</td>\n",
              "    </tr>\n",
              "    <tr>\n",
              "      <th>207</th>\n",
              "      <td>13.20</td>\n",
              "      <td>13.66</td>\n",
              "      <td>0.8883</td>\n",
              "      <td>5.236</td>\n",
              "      <td>3.232</td>\n",
              "      <td>8.315</td>\n",
              "      <td>5.056</td>\n",
              "      <td>3</td>\n",
              "    </tr>\n",
              "    <tr>\n",
              "      <th>208</th>\n",
              "      <td>11.84</td>\n",
              "      <td>13.21</td>\n",
              "      <td>0.8521</td>\n",
              "      <td>5.175</td>\n",
              "      <td>2.836</td>\n",
              "      <td>3.598</td>\n",
              "      <td>5.044</td>\n",
              "      <td>3</td>\n",
              "    </tr>\n",
              "    <tr>\n",
              "      <th>209</th>\n",
              "      <td>12.30</td>\n",
              "      <td>13.34</td>\n",
              "      <td>0.8684</td>\n",
              "      <td>5.243</td>\n",
              "      <td>2.974</td>\n",
              "      <td>5.637</td>\n",
              "      <td>5.063</td>\n",
              "      <td>3</td>\n",
              "    </tr>\n",
              "  </tbody>\n",
              "</table>\n",
              "<p>210 rows × 8 columns</p>\n",
              "</div>"
            ],
            "text/plain": [
              "      area  perimeter  ...  groove_length  seed_type\n",
              "0    15.26      14.84  ...          5.220          1\n",
              "1    14.88      14.57  ...          4.956          1\n",
              "2    14.29      14.09  ...          4.825          1\n",
              "3    13.84      13.94  ...          4.805          1\n",
              "4    16.14      14.99  ...          5.175          1\n",
              "..     ...        ...  ...            ...        ...\n",
              "205  12.19      13.20  ...          4.870          3\n",
              "206  11.23      12.88  ...          5.003          3\n",
              "207  13.20      13.66  ...          5.056          3\n",
              "208  11.84      13.21  ...          5.044          3\n",
              "209  12.30      13.34  ...          5.063          3\n",
              "\n",
              "[210 rows x 8 columns]"
            ]
          },
          "metadata": {
            "tags": []
          },
          "execution_count": 444
        }
      ]
    },
    {
      "cell_type": "markdown",
      "metadata": {
        "id": "xMlIkeccZucy",
        "colab_type": "text"
      },
      "source": [
        "> ### NOTA\n",
        "> Podemos ver los tipos de semilla que tenemos en todo el dataframe y también ver cuantos hay de cada tipo "
      ]
    },
    {
      "cell_type": "code",
      "metadata": {
        "id": "G6XnNAjHBGX7",
        "colab_type": "code",
        "outputId": "2a2b56d2-f23a-41ba-99fd-6cb8c91ff9d4",
        "colab": {
          "base_uri": "https://localhost:8080/",
          "height": 34
        }
      },
      "source": [
        "# Tipos de semillas\n",
        "\n",
        "dataframe['seed_type'].unique()"
      ],
      "execution_count": 445,
      "outputs": [
        {
          "output_type": "execute_result",
          "data": {
            "text/plain": [
              "array([1, 2, 3])"
            ]
          },
          "metadata": {
            "tags": []
          },
          "execution_count": 445
        }
      ]
    },
    {
      "cell_type": "code",
      "metadata": {
        "id": "W_oNRJXc-fs3",
        "colab_type": "code",
        "outputId": "b3e58a10-6529-4878-def1-cf9f66341d5f",
        "colab": {
          "base_uri": "https://localhost:8080/",
          "height": 85
        }
      },
      "source": [
        "# Cantidad de semillas por cada tipo de ellas\n",
        "dataframe['seed_type'].value_counts()"
      ],
      "execution_count": 446,
      "outputs": [
        {
          "output_type": "execute_result",
          "data": {
            "text/plain": [
              "3    70\n",
              "2    70\n",
              "1    70\n",
              "Name: seed_type, dtype: int64"
            ]
          },
          "metadata": {
            "tags": []
          },
          "execution_count": 446
        }
      ]
    },
    {
      "cell_type": "markdown",
      "metadata": {
        "id": "q4-rE6D7bUXV",
        "colab_type": "text"
      },
      "source": [
        "\n",
        "___\n",
        "\n",
        "<br>\n",
        "\n",
        "## 3.2 Datos de descriptivos y datos objetivo.\n",
        "\n",
        "- **Descriptivos (data) :** Usaremos el mismo dataframe pero sin la última columna ya que es la que queremos predecir.\n",
        "\n",
        "- **Objetivo (target) :** Usaremos solo la última columna del dataframe\n"
      ]
    },
    {
      "cell_type": "code",
      "metadata": {
        "id": "axo82EhOBkKP",
        "colab_type": "code",
        "colab": {}
      },
      "source": [
        "# Eliminación de la ultima columna para crear el dataframe de los datos descriptivos\n",
        "\n",
        "data = seeds_dataframe.drop('seed_type', axis=1)"
      ],
      "execution_count": 0,
      "outputs": []
    },
    {
      "cell_type": "code",
      "metadata": {
        "id": "srN_OisVCNqe",
        "colab_type": "code",
        "outputId": "2886b518-8b87-49cc-cb7a-4eb6a87ba867",
        "colab": {
          "base_uri": "https://localhost:8080/",
          "height": 419
        }
      },
      "source": [
        "data"
      ],
      "execution_count": 448,
      "outputs": [
        {
          "output_type": "execute_result",
          "data": {
            "text/html": [
              "<div>\n",
              "<style scoped>\n",
              "    .dataframe tbody tr th:only-of-type {\n",
              "        vertical-align: middle;\n",
              "    }\n",
              "\n",
              "    .dataframe tbody tr th {\n",
              "        vertical-align: top;\n",
              "    }\n",
              "\n",
              "    .dataframe thead th {\n",
              "        text-align: right;\n",
              "    }\n",
              "</style>\n",
              "<table border=\"1\" class=\"dataframe\">\n",
              "  <thead>\n",
              "    <tr style=\"text-align: right;\">\n",
              "      <th></th>\n",
              "      <th>area</th>\n",
              "      <th>perimeter</th>\n",
              "      <th>compactibility</th>\n",
              "      <th>nucleus_length</th>\n",
              "      <th>nucleus_width</th>\n",
              "      <th>asymmetry_coefficient</th>\n",
              "      <th>groove_length</th>\n",
              "    </tr>\n",
              "  </thead>\n",
              "  <tbody>\n",
              "    <tr>\n",
              "      <th>0</th>\n",
              "      <td>15.26</td>\n",
              "      <td>14.84</td>\n",
              "      <td>0.8710</td>\n",
              "      <td>5.763</td>\n",
              "      <td>3.312</td>\n",
              "      <td>2.221</td>\n",
              "      <td>5.220</td>\n",
              "    </tr>\n",
              "    <tr>\n",
              "      <th>1</th>\n",
              "      <td>14.88</td>\n",
              "      <td>14.57</td>\n",
              "      <td>0.8811</td>\n",
              "      <td>5.554</td>\n",
              "      <td>3.333</td>\n",
              "      <td>1.018</td>\n",
              "      <td>4.956</td>\n",
              "    </tr>\n",
              "    <tr>\n",
              "      <th>2</th>\n",
              "      <td>14.29</td>\n",
              "      <td>14.09</td>\n",
              "      <td>0.9050</td>\n",
              "      <td>5.291</td>\n",
              "      <td>3.337</td>\n",
              "      <td>2.699</td>\n",
              "      <td>4.825</td>\n",
              "    </tr>\n",
              "    <tr>\n",
              "      <th>3</th>\n",
              "      <td>13.84</td>\n",
              "      <td>13.94</td>\n",
              "      <td>0.8955</td>\n",
              "      <td>5.324</td>\n",
              "      <td>3.379</td>\n",
              "      <td>2.259</td>\n",
              "      <td>4.805</td>\n",
              "    </tr>\n",
              "    <tr>\n",
              "      <th>4</th>\n",
              "      <td>16.14</td>\n",
              "      <td>14.99</td>\n",
              "      <td>0.9034</td>\n",
              "      <td>5.658</td>\n",
              "      <td>3.562</td>\n",
              "      <td>1.355</td>\n",
              "      <td>5.175</td>\n",
              "    </tr>\n",
              "    <tr>\n",
              "      <th>...</th>\n",
              "      <td>...</td>\n",
              "      <td>...</td>\n",
              "      <td>...</td>\n",
              "      <td>...</td>\n",
              "      <td>...</td>\n",
              "      <td>...</td>\n",
              "      <td>...</td>\n",
              "    </tr>\n",
              "    <tr>\n",
              "      <th>205</th>\n",
              "      <td>12.19</td>\n",
              "      <td>13.20</td>\n",
              "      <td>0.8783</td>\n",
              "      <td>5.137</td>\n",
              "      <td>2.981</td>\n",
              "      <td>3.631</td>\n",
              "      <td>4.870</td>\n",
              "    </tr>\n",
              "    <tr>\n",
              "      <th>206</th>\n",
              "      <td>11.23</td>\n",
              "      <td>12.88</td>\n",
              "      <td>0.8511</td>\n",
              "      <td>5.140</td>\n",
              "      <td>2.795</td>\n",
              "      <td>4.325</td>\n",
              "      <td>5.003</td>\n",
              "    </tr>\n",
              "    <tr>\n",
              "      <th>207</th>\n",
              "      <td>13.20</td>\n",
              "      <td>13.66</td>\n",
              "      <td>0.8883</td>\n",
              "      <td>5.236</td>\n",
              "      <td>3.232</td>\n",
              "      <td>8.315</td>\n",
              "      <td>5.056</td>\n",
              "    </tr>\n",
              "    <tr>\n",
              "      <th>208</th>\n",
              "      <td>11.84</td>\n",
              "      <td>13.21</td>\n",
              "      <td>0.8521</td>\n",
              "      <td>5.175</td>\n",
              "      <td>2.836</td>\n",
              "      <td>3.598</td>\n",
              "      <td>5.044</td>\n",
              "    </tr>\n",
              "    <tr>\n",
              "      <th>209</th>\n",
              "      <td>12.30</td>\n",
              "      <td>13.34</td>\n",
              "      <td>0.8684</td>\n",
              "      <td>5.243</td>\n",
              "      <td>2.974</td>\n",
              "      <td>5.637</td>\n",
              "      <td>5.063</td>\n",
              "    </tr>\n",
              "  </tbody>\n",
              "</table>\n",
              "<p>210 rows × 7 columns</p>\n",
              "</div>"
            ],
            "text/plain": [
              "      area  perimeter  ...  asymmetry_coefficient  groove_length\n",
              "0    15.26      14.84  ...                  2.221          5.220\n",
              "1    14.88      14.57  ...                  1.018          4.956\n",
              "2    14.29      14.09  ...                  2.699          4.825\n",
              "3    13.84      13.94  ...                  2.259          4.805\n",
              "4    16.14      14.99  ...                  1.355          5.175\n",
              "..     ...        ...  ...                    ...            ...\n",
              "205  12.19      13.20  ...                  3.631          4.870\n",
              "206  11.23      12.88  ...                  4.325          5.003\n",
              "207  13.20      13.66  ...                  8.315          5.056\n",
              "208  11.84      13.21  ...                  3.598          5.044\n",
              "209  12.30      13.34  ...                  5.637          5.063\n",
              "\n",
              "[210 rows x 7 columns]"
            ]
          },
          "metadata": {
            "tags": []
          },
          "execution_count": 448
        }
      ]
    },
    {
      "cell_type": "code",
      "metadata": {
        "id": "d5BBSXUqCP_1",
        "colab_type": "code",
        "colab": {}
      },
      "source": [
        "# Escogemos la última columna de dataframe como objetivos que serán los tipos de semilla que tendremos\n",
        "\n",
        "target = dataframe['seed_type']"
      ],
      "execution_count": 0,
      "outputs": []
    },
    {
      "cell_type": "code",
      "metadata": {
        "id": "JGjPC11KCgw-",
        "colab_type": "code",
        "outputId": "bef75ca3-3860-4cd3-9e24-96f5a141fdae",
        "colab": {
          "base_uri": "https://localhost:8080/",
          "height": 221
        }
      },
      "source": [
        "target"
      ],
      "execution_count": 450,
      "outputs": [
        {
          "output_type": "execute_result",
          "data": {
            "text/plain": [
              "0      1\n",
              "1      1\n",
              "2      1\n",
              "3      1\n",
              "4      1\n",
              "      ..\n",
              "205    3\n",
              "206    3\n",
              "207    3\n",
              "208    3\n",
              "209    3\n",
              "Name: seed_type, Length: 210, dtype: int64"
            ]
          },
          "metadata": {
            "tags": []
          },
          "execution_count": 450
        }
      ]
    },
    {
      "cell_type": "markdown",
      "metadata": {
        "id": "7WkKdfQ6o265",
        "colab_type": "text"
      },
      "source": [
        "\n",
        "___\n",
        "\n",
        "<br>\n",
        "\n",
        "## 3.3 Creación del árbol de decisión"
      ]
    },
    {
      "cell_type": "code",
      "metadata": {
        "id": "TM-8utRFF1F4",
        "colab_type": "code",
        "colab": {}
      },
      "source": [
        "from sklearn.model_selection import train_test_split"
      ],
      "execution_count": 0,
      "outputs": []
    },
    {
      "cell_type": "code",
      "metadata": {
        "id": "Y8D5qMaFF7Ev",
        "colab_type": "code",
        "colab": {}
      },
      "source": [
        "# Indicamos el porcentaje que tendrán los datos de entrenamiento y los datos de validación\n",
        "\n",
        "data_train, data_test, target_train, target_test = train_test_split(data, target, test_size=0.3)"
      ],
      "execution_count": 0,
      "outputs": []
    },
    {
      "cell_type": "code",
      "metadata": {
        "id": "FRZflJhnGLfl",
        "colab_type": "code",
        "colab": {}
      },
      "source": [
        "from sklearn.tree import DecisionTreeClassifier"
      ],
      "execution_count": 0,
      "outputs": []
    },
    {
      "cell_type": "code",
      "metadata": {
        "id": "rAoCkC8vGxMv",
        "colab_type": "code",
        "colab": {}
      },
      "source": [
        "model_tree = DecisionTreeClassifier(random_state=0, max_depth=5, min_samples_leaf=3, min_samples_split=10)"
      ],
      "execution_count": 0,
      "outputs": []
    },
    {
      "cell_type": "code",
      "metadata": {
        "id": "rBVbovkPGz7r",
        "colab_type": "code",
        "colab": {}
      },
      "source": [
        "model_tree = model_tree.fit(data_train, target_train)"
      ],
      "execution_count": 0,
      "outputs": []
    },
    {
      "cell_type": "code",
      "metadata": {
        "id": "d4lNRn5eIUZi",
        "colab_type": "code",
        "outputId": "91eacb5b-1f14-4c3b-a1f9-9955eeff4672",
        "colab": {
          "base_uri": "https://localhost:8080/",
          "height": 119
        }
      },
      "source": [
        "model_tree"
      ],
      "execution_count": 456,
      "outputs": [
        {
          "output_type": "execute_result",
          "data": {
            "text/plain": [
              "DecisionTreeClassifier(ccp_alpha=0.0, class_weight=None, criterion='gini',\n",
              "                       max_depth=5, max_features=None, max_leaf_nodes=None,\n",
              "                       min_impurity_decrease=0.0, min_impurity_split=None,\n",
              "                       min_samples_leaf=3, min_samples_split=10,\n",
              "                       min_weight_fraction_leaf=0.0, presort='deprecated',\n",
              "                       random_state=0, splitter='best')"
            ]
          },
          "metadata": {
            "tags": []
          },
          "execution_count": 456
        }
      ]
    },
    {
      "cell_type": "code",
      "metadata": {
        "id": "kNmtWvbaFm81",
        "colab_type": "code",
        "colab": {}
      },
      "source": [
        "from sklearn import tree\n",
        "import graphviz"
      ],
      "execution_count": 0,
      "outputs": []
    },
    {
      "cell_type": "code",
      "metadata": {
        "id": "oUdP-m1gKAzE",
        "colab_type": "code",
        "colab": {}
      },
      "source": [
        "dot_seed = tree.export_graphviz(model_tree, out_file=None,\n",
        "                                feature_names=data.columns,\n",
        "                                filled=True)\n",
        "\n",
        "graph = graphviz.Source(dot_seed)"
      ],
      "execution_count": 0,
      "outputs": []
    },
    {
      "cell_type": "code",
      "metadata": {
        "id": "OPRmQnhsKcxc",
        "colab_type": "code",
        "outputId": "26a92a1d-a806-4a22-ddea-67650053e814",
        "colab": {
          "base_uri": "https://localhost:8080/",
          "height": 657
        }
      },
      "source": [
        "graph"
      ],
      "execution_count": 459,
      "outputs": [
        {
          "output_type": "execute_result",
          "data": {
            "text/plain": [
              "<graphviz.files.Source at 0x7f933eec1978>"
            ],
            "image/svg+xml": "<?xml version=\"1.0\" encoding=\"UTF-8\" standalone=\"no\"?>\n<!DOCTYPE svg PUBLIC \"-//W3C//DTD SVG 1.1//EN\"\n \"http://www.w3.org/Graphics/SVG/1.1/DTD/svg11.dtd\">\n<!-- Generated by graphviz version 2.40.1 (20161225.0304)\n -->\n<!-- Title: Tree Pages: 1 -->\n<svg width=\"744pt\" height=\"477pt\"\n viewBox=\"0.00 0.00 743.50 477.00\" xmlns=\"http://www.w3.org/2000/svg\" xmlns:xlink=\"http://www.w3.org/1999/xlink\">\n<g id=\"graph0\" class=\"graph\" transform=\"scale(1 1) rotate(0) translate(4 473)\">\n<title>Tree</title>\n<polygon fill=\"#ffffff\" stroke=\"transparent\" points=\"-4,4 -4,-473 739.5,-473 739.5,4 -4,4\"/>\n<!-- 0 -->\n<g id=\"node1\" class=\"node\">\n<title>0</title>\n<polygon fill=\"#ffffff\" stroke=\"#000000\" points=\"536,-469 378,-469 378,-401 536,-401 536,-469\"/>\n<text text-anchor=\"middle\" x=\"457\" y=\"-453.8\" font-family=\"Times,serif\" font-size=\"14.00\" fill=\"#000000\">groove_length &lt;= 5.639</text>\n<text text-anchor=\"middle\" x=\"457\" y=\"-438.8\" font-family=\"Times,serif\" font-size=\"14.00\" fill=\"#000000\">gini = 0.664</text>\n<text text-anchor=\"middle\" x=\"457\" y=\"-423.8\" font-family=\"Times,serif\" font-size=\"14.00\" fill=\"#000000\">samples = 147</text>\n<text text-anchor=\"middle\" x=\"457\" y=\"-408.8\" font-family=\"Times,serif\" font-size=\"14.00\" fill=\"#000000\">value = [52, 43, 52]</text>\n</g>\n<!-- 1 -->\n<g id=\"node2\" class=\"node\">\n<title>1</title>\n<polygon fill=\"#fdfbfe\" stroke=\"#000000\" points=\"432.5,-365 307.5,-365 307.5,-297 432.5,-297 432.5,-365\"/>\n<text text-anchor=\"middle\" x=\"370\" y=\"-349.8\" font-family=\"Times,serif\" font-size=\"14.00\" fill=\"#000000\">area &lt;= 13.115</text>\n<text text-anchor=\"middle\" x=\"370\" y=\"-334.8\" font-family=\"Times,serif\" font-size=\"14.00\" fill=\"#000000\">gini = 0.5</text>\n<text text-anchor=\"middle\" x=\"370\" y=\"-319.8\" font-family=\"Times,serif\" font-size=\"14.00\" fill=\"#000000\">samples = 103</text>\n<text text-anchor=\"middle\" x=\"370\" y=\"-304.8\" font-family=\"Times,serif\" font-size=\"14.00\" fill=\"#000000\">value = [51, 0, 52]</text>\n</g>\n<!-- 0&#45;&gt;1 -->\n<g id=\"edge1\" class=\"edge\">\n<title>0&#45;&gt;1</title>\n<path fill=\"none\" stroke=\"#000000\" d=\"M428.5129,-400.9465C421.0021,-391.968 412.8105,-382.1758 404.9995,-372.8385\"/>\n<polygon fill=\"#000000\" stroke=\"#000000\" points=\"407.652,-370.5544 398.5511,-365.13 402.2829,-375.0459 407.652,-370.5544\"/>\n<text text-anchor=\"middle\" x=\"396.3347\" y=\"-386.3316\" font-family=\"Times,serif\" font-size=\"14.00\" fill=\"#000000\">True</text>\n</g>\n<!-- 10 -->\n<g id=\"node11\" class=\"node\">\n<title>10</title>\n<polygon fill=\"#3ee684\" stroke=\"#000000\" points=\"603.5,-365 486.5,-365 486.5,-297 603.5,-297 603.5,-365\"/>\n<text text-anchor=\"middle\" x=\"545\" y=\"-349.8\" font-family=\"Times,serif\" font-size=\"14.00\" fill=\"#000000\">area &lt;= 16.7</text>\n<text text-anchor=\"middle\" x=\"545\" y=\"-334.8\" font-family=\"Times,serif\" font-size=\"14.00\" fill=\"#000000\">gini = 0.044</text>\n<text text-anchor=\"middle\" x=\"545\" y=\"-319.8\" font-family=\"Times,serif\" font-size=\"14.00\" fill=\"#000000\">samples = 44</text>\n<text text-anchor=\"middle\" x=\"545\" y=\"-304.8\" font-family=\"Times,serif\" font-size=\"14.00\" fill=\"#000000\">value = [1, 43, 0]</text>\n</g>\n<!-- 0&#45;&gt;10 -->\n<g id=\"edge10\" class=\"edge\">\n<title>0&#45;&gt;10</title>\n<path fill=\"none\" stroke=\"#000000\" d=\"M485.8145,-400.9465C493.4117,-391.968 501.6974,-382.1758 509.5982,-372.8385\"/>\n<polygon fill=\"#000000\" stroke=\"#000000\" points=\"512.3332,-375.0247 516.1208,-365.13 506.9895,-370.5031 512.3332,-375.0247\"/>\n<text text-anchor=\"middle\" x=\"518.1969\" y=\"-386.3436\" font-family=\"Times,serif\" font-size=\"14.00\" fill=\"#000000\">False</text>\n</g>\n<!-- 2 -->\n<g id=\"node3\" class=\"node\">\n<title>2</title>\n<polygon fill=\"#9355e9\" stroke=\"#000000\" points=\"250,-261 92,-261 92,-193 250,-193 250,-261\"/>\n<text text-anchor=\"middle\" x=\"171\" y=\"-245.8\" font-family=\"Times,serif\" font-size=\"14.00\" fill=\"#000000\">groove_length &lt;= 4.676</text>\n<text text-anchor=\"middle\" x=\"171\" y=\"-230.8\" font-family=\"Times,serif\" font-size=\"14.00\" fill=\"#000000\">gini = 0.215</text>\n<text text-anchor=\"middle\" x=\"171\" y=\"-215.8\" font-family=\"Times,serif\" font-size=\"14.00\" fill=\"#000000\">samples = 57</text>\n<text text-anchor=\"middle\" x=\"171\" y=\"-200.8\" font-family=\"Times,serif\" font-size=\"14.00\" fill=\"#000000\">value = [7, 0, 50]</text>\n</g>\n<!-- 1&#45;&gt;2 -->\n<g id=\"edge2\" class=\"edge\">\n<title>1&#45;&gt;2</title>\n<path fill=\"none\" stroke=\"#000000\" d=\"M307.3083,-298.2365C287.5593,-287.9154 265.5581,-276.4173 245.0937,-265.7223\"/>\n<polygon fill=\"#000000\" stroke=\"#000000\" points=\"246.6057,-262.5634 236.1218,-261.0335 243.3634,-268.7673 246.6057,-262.5634\"/>\n</g>\n<!-- 7 -->\n<g id=\"node8\" class=\"node\">\n<title>7</title>\n<polygon fill=\"#e68742\" stroke=\"#000000\" points=\"472,-261 268,-261 268,-193 472,-193 472,-261\"/>\n<text text-anchor=\"middle\" x=\"370\" y=\"-245.8\" font-family=\"Times,serif\" font-size=\"14.00\" fill=\"#000000\">asymmetry_coefficient &lt;= 5.794</text>\n<text text-anchor=\"middle\" x=\"370\" y=\"-230.8\" font-family=\"Times,serif\" font-size=\"14.00\" fill=\"#000000\">gini = 0.083</text>\n<text text-anchor=\"middle\" x=\"370\" y=\"-215.8\" font-family=\"Times,serif\" font-size=\"14.00\" fill=\"#000000\">samples = 46</text>\n<text text-anchor=\"middle\" x=\"370\" y=\"-200.8\" font-family=\"Times,serif\" font-size=\"14.00\" fill=\"#000000\">value = [44, 0, 2]</text>\n</g>\n<!-- 1&#45;&gt;7 -->\n<g id=\"edge7\" class=\"edge\">\n<title>1&#45;&gt;7</title>\n<path fill=\"none\" stroke=\"#000000\" d=\"M370,-296.9465C370,-288.776 370,-279.9318 370,-271.3697\"/>\n<polygon fill=\"#000000\" stroke=\"#000000\" points=\"373.5001,-271.13 370,-261.13 366.5001,-271.13 373.5001,-271.13\"/>\n</g>\n<!-- 3 -->\n<g id=\"node4\" class=\"node\">\n<title>3</title>\n<polygon fill=\"#e58139\" stroke=\"#000000\" points=\"110,-149.5 0,-149.5 0,-96.5 110,-96.5 110,-149.5\"/>\n<text text-anchor=\"middle\" x=\"55\" y=\"-134.3\" font-family=\"Times,serif\" font-size=\"14.00\" fill=\"#000000\">gini = 0.0</text>\n<text text-anchor=\"middle\" x=\"55\" y=\"-119.3\" font-family=\"Times,serif\" font-size=\"14.00\" fill=\"#000000\">samples = 4</text>\n<text text-anchor=\"middle\" x=\"55\" y=\"-104.3\" font-family=\"Times,serif\" font-size=\"14.00\" fill=\"#000000\">value = [4, 0, 0]</text>\n</g>\n<!-- 2&#45;&gt;3 -->\n<g id=\"edge3\" class=\"edge\">\n<title>2&#45;&gt;3</title>\n<path fill=\"none\" stroke=\"#000000\" d=\"M133.0173,-192.9465C119.8714,-181.1606 105.1618,-167.9726 92.0887,-156.2519\"/>\n<polygon fill=\"#000000\" stroke=\"#000000\" points=\"94.3869,-153.6116 84.6047,-149.5422 89.714,-158.8236 94.3869,-153.6116\"/>\n</g>\n<!-- 4 -->\n<g id=\"node5\" class=\"node\">\n<title>4</title>\n<polygon fill=\"#8945e7\" stroke=\"#000000\" points=\"245.5,-157 128.5,-157 128.5,-89 245.5,-89 245.5,-157\"/>\n<text text-anchor=\"middle\" x=\"187\" y=\"-141.8\" font-family=\"Times,serif\" font-size=\"14.00\" fill=\"#000000\">area &lt;= 12.71</text>\n<text text-anchor=\"middle\" x=\"187\" y=\"-126.8\" font-family=\"Times,serif\" font-size=\"14.00\" fill=\"#000000\">gini = 0.107</text>\n<text text-anchor=\"middle\" x=\"187\" y=\"-111.8\" font-family=\"Times,serif\" font-size=\"14.00\" fill=\"#000000\">samples = 53</text>\n<text text-anchor=\"middle\" x=\"187\" y=\"-96.8\" font-family=\"Times,serif\" font-size=\"14.00\" fill=\"#000000\">value = [3, 0, 50]</text>\n</g>\n<!-- 2&#45;&gt;4 -->\n<g id=\"edge4\" class=\"edge\">\n<title>2&#45;&gt;4</title>\n<path fill=\"none\" stroke=\"#000000\" d=\"M176.239,-192.9465C177.5098,-184.6863 178.8866,-175.7374 180.2173,-167.0875\"/>\n<polygon fill=\"#000000\" stroke=\"#000000\" points=\"183.6879,-167.5459 181.7492,-157.13 176.7693,-166.4815 183.6879,-167.5459\"/>\n</g>\n<!-- 5 -->\n<g id=\"node6\" class=\"node\">\n<title>5</title>\n<polygon fill=\"#8139e5\" stroke=\"#000000\" points=\"179.5,-53 62.5,-53 62.5,0 179.5,0 179.5,-53\"/>\n<text text-anchor=\"middle\" x=\"121\" y=\"-37.8\" font-family=\"Times,serif\" font-size=\"14.00\" fill=\"#000000\">gini = 0.0</text>\n<text text-anchor=\"middle\" x=\"121\" y=\"-22.8\" font-family=\"Times,serif\" font-size=\"14.00\" fill=\"#000000\">samples = 46</text>\n<text text-anchor=\"middle\" x=\"121\" y=\"-7.8\" font-family=\"Times,serif\" font-size=\"14.00\" fill=\"#000000\">value = [0, 0, 46]</text>\n</g>\n<!-- 4&#45;&gt;5 -->\n<g id=\"edge5\" class=\"edge\">\n<title>4&#45;&gt;5</title>\n<path fill=\"none\" stroke=\"#000000\" d=\"M163.7309,-88.9777C157.656,-80.0954 151.0979,-70.5067 144.9865,-61.5711\"/>\n<polygon fill=\"#000000\" stroke=\"#000000\" points=\"147.8286,-59.5267 139.2943,-53.2485 142.0507,-63.4785 147.8286,-59.5267\"/>\n</g>\n<!-- 6 -->\n<g id=\"node7\" class=\"node\">\n<title>6</title>\n<polygon fill=\"#e0cef8\" stroke=\"#000000\" points=\"308,-53 198,-53 198,0 308,0 308,-53\"/>\n<text text-anchor=\"middle\" x=\"253\" y=\"-37.8\" font-family=\"Times,serif\" font-size=\"14.00\" fill=\"#000000\">gini = 0.49</text>\n<text text-anchor=\"middle\" x=\"253\" y=\"-22.8\" font-family=\"Times,serif\" font-size=\"14.00\" fill=\"#000000\">samples = 7</text>\n<text text-anchor=\"middle\" x=\"253\" y=\"-7.8\" font-family=\"Times,serif\" font-size=\"14.00\" fill=\"#000000\">value = [3, 0, 4]</text>\n</g>\n<!-- 4&#45;&gt;6 -->\n<g id=\"edge6\" class=\"edge\">\n<title>4&#45;&gt;6</title>\n<path fill=\"none\" stroke=\"#000000\" d=\"M210.2691,-88.9777C216.344,-80.0954 222.9021,-70.5067 229.0135,-61.5711\"/>\n<polygon fill=\"#000000\" stroke=\"#000000\" points=\"231.9493,-63.4785 234.7057,-53.2485 226.1714,-59.5267 231.9493,-63.4785\"/>\n</g>\n<!-- 8 -->\n<g id=\"node9\" class=\"node\">\n<title>8</title>\n<polygon fill=\"#e58139\" stroke=\"#000000\" points=\"412.5,-149.5 295.5,-149.5 295.5,-96.5 412.5,-96.5 412.5,-149.5\"/>\n<text text-anchor=\"middle\" x=\"354\" y=\"-134.3\" font-family=\"Times,serif\" font-size=\"14.00\" fill=\"#000000\">gini = 0.0</text>\n<text text-anchor=\"middle\" x=\"354\" y=\"-119.3\" font-family=\"Times,serif\" font-size=\"14.00\" fill=\"#000000\">samples = 43</text>\n<text text-anchor=\"middle\" x=\"354\" y=\"-104.3\" font-family=\"Times,serif\" font-size=\"14.00\" fill=\"#000000\">value = [43, 0, 0]</text>\n</g>\n<!-- 7&#45;&gt;8 -->\n<g id=\"edge8\" class=\"edge\">\n<title>7&#45;&gt;8</title>\n<path fill=\"none\" stroke=\"#000000\" d=\"M364.761,-192.9465C363.1172,-182.2621 361.2962,-170.4254 359.6268,-159.5742\"/>\n<polygon fill=\"#000000\" stroke=\"#000000\" points=\"363.0634,-158.8937 358.0834,-149.5422 356.1448,-159.9581 363.0634,-158.8937\"/>\n</g>\n<!-- 9 -->\n<g id=\"node10\" class=\"node\">\n<title>9</title>\n<polygon fill=\"#c09cf2\" stroke=\"#000000\" points=\"541,-149.5 431,-149.5 431,-96.5 541,-96.5 541,-149.5\"/>\n<text text-anchor=\"middle\" x=\"486\" y=\"-134.3\" font-family=\"Times,serif\" font-size=\"14.00\" fill=\"#000000\">gini = 0.444</text>\n<text text-anchor=\"middle\" x=\"486\" y=\"-119.3\" font-family=\"Times,serif\" font-size=\"14.00\" fill=\"#000000\">samples = 3</text>\n<text text-anchor=\"middle\" x=\"486\" y=\"-104.3\" font-family=\"Times,serif\" font-size=\"14.00\" fill=\"#000000\">value = [1, 0, 2]</text>\n</g>\n<!-- 7&#45;&gt;9 -->\n<g id=\"edge9\" class=\"edge\">\n<title>7&#45;&gt;9</title>\n<path fill=\"none\" stroke=\"#000000\" d=\"M407.9827,-192.9465C421.1286,-181.1606 435.8382,-167.9726 448.9113,-156.2519\"/>\n<polygon fill=\"#000000\" stroke=\"#000000\" points=\"451.286,-158.8236 456.3953,-149.5422 446.6131,-153.6116 451.286,-158.8236\"/>\n</g>\n<!-- 11 -->\n<g id=\"node12\" class=\"node\">\n<title>11</title>\n<polygon fill=\"#7beeab\" stroke=\"#000000\" points=\"600,-253.5 490,-253.5 490,-200.5 600,-200.5 600,-253.5\"/>\n<text text-anchor=\"middle\" x=\"545\" y=\"-238.3\" font-family=\"Times,serif\" font-size=\"14.00\" fill=\"#000000\">gini = 0.375</text>\n<text text-anchor=\"middle\" x=\"545\" y=\"-223.3\" font-family=\"Times,serif\" font-size=\"14.00\" fill=\"#000000\">samples = 4</text>\n<text text-anchor=\"middle\" x=\"545\" y=\"-208.3\" font-family=\"Times,serif\" font-size=\"14.00\" fill=\"#000000\">value = [1, 3, 0]</text>\n</g>\n<!-- 10&#45;&gt;11 -->\n<g id=\"edge11\" class=\"edge\">\n<title>10&#45;&gt;11</title>\n<path fill=\"none\" stroke=\"#000000\" d=\"M545,-296.9465C545,-286.2621 545,-274.4254 545,-263.5742\"/>\n<polygon fill=\"#000000\" stroke=\"#000000\" points=\"548.5001,-263.5421 545,-253.5422 541.5001,-263.5422 548.5001,-263.5421\"/>\n</g>\n<!-- 12 -->\n<g id=\"node13\" class=\"node\">\n<title>12</title>\n<polygon fill=\"#39e581\" stroke=\"#000000\" points=\"735.5,-253.5 618.5,-253.5 618.5,-200.5 735.5,-200.5 735.5,-253.5\"/>\n<text text-anchor=\"middle\" x=\"677\" y=\"-238.3\" font-family=\"Times,serif\" font-size=\"14.00\" fill=\"#000000\">gini = 0.0</text>\n<text text-anchor=\"middle\" x=\"677\" y=\"-223.3\" font-family=\"Times,serif\" font-size=\"14.00\" fill=\"#000000\">samples = 40</text>\n<text text-anchor=\"middle\" x=\"677\" y=\"-208.3\" font-family=\"Times,serif\" font-size=\"14.00\" fill=\"#000000\">value = [0, 40, 0]</text>\n</g>\n<!-- 10&#45;&gt;12 -->\n<g id=\"edge12\" class=\"edge\">\n<title>10&#45;&gt;12</title>\n<path fill=\"none\" stroke=\"#000000\" d=\"M588.2217,-296.9465C603.3206,-285.0504 620.2324,-271.726 635.2122,-259.9237\"/>\n<polygon fill=\"#000000\" stroke=\"#000000\" points=\"637.623,-262.4802 643.3119,-253.5422 633.2909,-256.9817 637.623,-262.4802\"/>\n</g>\n</g>\n</svg>\n"
          },
          "metadata": {
            "tags": []
          },
          "execution_count": 459
        }
      ]
    },
    {
      "cell_type": "markdown",
      "metadata": {
        "id": "gtrJOTCes-NU",
        "colab_type": "text"
      },
      "source": [
        "\n",
        "___\n",
        "\n",
        "<br>\n",
        "\n",
        "## 3.4 Predicciones\n",
        "\n",
        "En este apartado sacaremos las precisiones que hemos conseguido tanto con el conjunto de validacion como el de entrenamiento y veremos también la *matriz de confusión*\n",
        "\n",
        "## 3.4.1  Predicción sobre conjunto de validación"
      ]
    },
    {
      "cell_type": "code",
      "metadata": {
        "id": "o4vObDAbH4Pt",
        "colab_type": "code",
        "colab": {}
      },
      "source": [
        "from sklearn.metrics import classification_report, confusion_matrix"
      ],
      "execution_count": 0,
      "outputs": []
    },
    {
      "cell_type": "code",
      "metadata": {
        "id": "1ZPJT5tBHfrU",
        "colab_type": "code",
        "colab": {}
      },
      "source": [
        "# Predecimos los datos objetivos con el árbol creado anterioremente\n",
        "\n",
        "predictions_test = model_tree.predict(data_test)"
      ],
      "execution_count": 0,
      "outputs": []
    },
    {
      "cell_type": "code",
      "metadata": {
        "id": "_fqS1lEeHj7V",
        "colab_type": "code",
        "outputId": "79b84679-ac52-411a-938e-6c286f6498cf",
        "colab": {
          "base_uri": "https://localhost:8080/",
          "height": 68
        }
      },
      "source": [
        "# Resultaods de las predicciones\n",
        "\n",
        "predictions_test"
      ],
      "execution_count": 462,
      "outputs": [
        {
          "output_type": "execute_result",
          "data": {
            "text/plain": [
              "array([2, 2, 1, 1, 3, 3, 2, 3, 3, 2, 1, 3, 3, 2, 1, 2, 2, 2, 2, 3, 2, 3,\n",
              "       1, 3, 2, 2, 2, 2, 1, 1, 1, 3, 1, 1, 1, 3, 1, 3, 3, 1, 1, 3, 1, 1,\n",
              "       2, 3, 2, 2, 2, 1, 3, 1, 2, 3, 2, 2, 2, 3, 3, 2, 3, 3, 2])"
            ]
          },
          "metadata": {
            "tags": []
          },
          "execution_count": 462
        }
      ]
    },
    {
      "cell_type": "code",
      "metadata": {
        "id": "ICRfbsRpHrD7",
        "colab_type": "code",
        "outputId": "3a94c62e-af67-4f3e-85f6-fb8e7bd0bbb4",
        "colab": {
          "base_uri": "https://localhost:8080/",
          "height": 221
        }
      },
      "source": [
        "# Datos que tenía que predecir\n",
        "target_test"
      ],
      "execution_count": 463,
      "outputs": [
        {
          "output_type": "execute_result",
          "data": {
            "text/plain": [
              "83     2\n",
              "103    2\n",
              "197    3\n",
              "100    2\n",
              "152    3\n",
              "      ..\n",
              "190    3\n",
              "99     2\n",
              "149    3\n",
              "171    3\n",
              "136    2\n",
              "Name: seed_type, Length: 63, dtype: int64"
            ]
          },
          "metadata": {
            "tags": []
          },
          "execution_count": 463
        }
      ]
    },
    {
      "cell_type": "code",
      "metadata": {
        "colab_type": "code",
        "outputId": "9e127405-9414-453b-a6bb-c12e963088fc",
        "id": "fJ-m9ZPTrqHp",
        "colab": {
          "base_uri": "https://localhost:8080/",
          "height": 187
        }
      },
      "source": [
        "print(classification_report(target_test, predictions_test))"
      ],
      "execution_count": 464,
      "outputs": [
        {
          "output_type": "stream",
          "text": [
            "              precision    recall  f1-score   support\n",
            "\n",
            "           1       0.78      0.78      0.78        18\n",
            "           2       1.00      0.89      0.94        27\n",
            "           3       0.81      0.94      0.87        18\n",
            "\n",
            "    accuracy                           0.87        63\n",
            "   macro avg       0.86      0.87      0.86        63\n",
            "weighted avg       0.88      0.87      0.87        63\n",
            "\n"
          ],
          "name": "stdout"
        }
      ]
    },
    {
      "cell_type": "code",
      "metadata": {
        "id": "xKlDK1F6IInw",
        "colab_type": "code",
        "outputId": "7b8d0b71-03cb-4488-8073-fca9e5633211",
        "colab": {
          "base_uri": "https://localhost:8080/",
          "height": 68
        }
      },
      "source": [
        "print(confusion_matrix(target_test, predictions_test))"
      ],
      "execution_count": 465,
      "outputs": [
        {
          "output_type": "stream",
          "text": [
            "[[14  0  4]\n",
            " [ 3 24  0]\n",
            " [ 1  0 17]]\n"
          ],
          "name": "stdout"
        }
      ]
    },
    {
      "cell_type": "markdown",
      "metadata": {
        "id": "27mAO5wBuQVF",
        "colab_type": "text"
      },
      "source": [
        "\n",
        "___\n",
        "\n",
        "<br>\n",
        "\n",
        "## 3.4.2 Predicciones sobre conjunto de entrenamiento"
      ]
    },
    {
      "cell_type": "code",
      "metadata": {
        "id": "-RZ6gcg3scEY",
        "colab_type": "code",
        "colab": {}
      },
      "source": [
        "predictions_train = model_tree.predict(data_train)"
      ],
      "execution_count": 0,
      "outputs": []
    },
    {
      "cell_type": "code",
      "metadata": {
        "id": "ynY6W8hTufag",
        "colab_type": "code",
        "colab": {
          "base_uri": "https://localhost:8080/",
          "height": 136
        },
        "outputId": "21773a5a-23eb-495b-88f9-8068c9baea9d"
      },
      "source": [
        "predictions_train"
      ],
      "execution_count": 467,
      "outputs": [
        {
          "output_type": "execute_result",
          "data": {
            "text/plain": [
              "array([3, 3, 1, 3, 1, 1, 3, 1, 1, 3, 2, 3, 3, 1, 1, 1, 2, 1, 2, 3, 1, 2,\n",
              "       3, 1, 3, 2, 2, 1, 2, 2, 2, 3, 3, 3, 3, 2, 1, 2, 1, 1, 3, 3, 1, 1,\n",
              "       2, 1, 2, 2, 1, 1, 1, 1, 3, 2, 2, 3, 1, 3, 2, 1, 1, 3, 1, 1, 3, 3,\n",
              "       2, 2, 3, 3, 2, 3, 3, 3, 1, 2, 2, 3, 1, 1, 2, 3, 3, 1, 1, 1, 1, 1,\n",
              "       2, 3, 2, 2, 3, 3, 3, 1, 3, 2, 1, 3, 2, 1, 2, 3, 3, 1, 1, 3, 3, 3,\n",
              "       2, 2, 2, 2, 1, 2, 3, 3, 1, 1, 3, 2, 3, 3, 2, 2, 1, 3, 2, 3, 2, 1,\n",
              "       2, 1, 3, 2, 3, 3, 3, 2, 3, 2, 3, 1, 3, 2, 3])"
            ]
          },
          "metadata": {
            "tags": []
          },
          "execution_count": 467
        }
      ]
    },
    {
      "cell_type": "code",
      "metadata": {
        "id": "iR-RKgDpuqae",
        "colab_type": "code",
        "colab": {
          "base_uri": "https://localhost:8080/",
          "height": 221
        },
        "outputId": "53de96f7-13b8-413a-c463-7f6c7188e501"
      },
      "source": [
        "target_train"
      ],
      "execution_count": 468,
      "outputs": [
        {
          "output_type": "execute_result",
          "data": {
            "text/plain": [
              "158    3\n",
              "27     1\n",
              "35     1\n",
              "199    3\n",
              "44     1\n",
              "      ..\n",
              "182    3\n",
              "46     1\n",
              "206    3\n",
              "133    2\n",
              "198    3\n",
              "Name: seed_type, Length: 147, dtype: int64"
            ]
          },
          "metadata": {
            "tags": []
          },
          "execution_count": 468
        }
      ]
    },
    {
      "cell_type": "code",
      "metadata": {
        "id": "FiCxdngkuxy3",
        "colab_type": "code",
        "colab": {
          "base_uri": "https://localhost:8080/",
          "height": 187
        },
        "outputId": "60315aa9-add1-4cff-bb2c-0f7b00392b55"
      },
      "source": [
        "print(classification_report(target_train, predictions_train))"
      ],
      "execution_count": 469,
      "outputs": [
        {
          "output_type": "stream",
          "text": [
            "              precision    recall  f1-score   support\n",
            "\n",
            "           1       1.00      0.90      0.95        52\n",
            "           2       0.98      1.00      0.99        43\n",
            "           3       0.93      1.00      0.96        52\n",
            "\n",
            "    accuracy                           0.97       147\n",
            "   macro avg       0.97      0.97      0.97       147\n",
            "weighted avg       0.97      0.97      0.97       147\n",
            "\n"
          ],
          "name": "stdout"
        }
      ]
    },
    {
      "cell_type": "code",
      "metadata": {
        "id": "gTC-OjHRu2l8",
        "colab_type": "code",
        "colab": {
          "base_uri": "https://localhost:8080/",
          "height": 68
        },
        "outputId": "c820a673-4cef-47f2-e170-f5d7766aaae8"
      },
      "source": [
        "print(confusion_matrix(target_train, predictions_train))"
      ],
      "execution_count": 470,
      "outputs": [
        {
          "output_type": "stream",
          "text": [
            "[[47  1  4]\n",
            " [ 0 43  0]\n",
            " [ 0  0 52]]\n"
          ],
          "name": "stdout"
        }
      ]
    }
  ]
}