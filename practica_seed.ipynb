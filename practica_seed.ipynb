{
  "nbformat": 4,
  "nbformat_minor": 0,
  "metadata": {
    "colab": {
      "name": "practica_seed.ipynb",
      "provenance": [],
      "collapsed_sections": [],
      "toc_visible": true
    },
    "kernelspec": {
      "name": "python3",
      "display_name": "Python 3"
    }
  },
  "cells": [
    {
      "cell_type": "markdown",
      "metadata": {
        "id": "rhrzQM31QZMD",
        "colab_type": "text"
      },
      "source": [
        "# Tratamiento Inteligente de Datos\n",
        "# Práctica Inidividual\n",
        "# Arbol de decisión\n",
        "____"
      ]
    },
    {
      "cell_type": "markdown",
      "metadata": {
        "id": "TI8VdHTuVUqB",
        "colab_type": "text"
      },
      "source": [
        "## **1. Fichero y librerías necesarias**\n",
        "\n",
        "### **1.1 Fichero Necesario**\n",
        "\n",
        "- **seeds.txt :** Fichero con el que se trabajará en esta práctica\n",
        "\n",
        "### **1.2 Liberías Necesarias**\n",
        "\n",
        "- **Pandas :** Proceso de tratar los datos como leer el dataframe, modificarlos, acceder a ellos, etc...\n",
        "- **Sklearn :** librería para machine learning en la que podremos crear *árboles de decisión*, entrenar el modelo, etc...\n",
        "- **Graphviz :**  Librería para poder mostrar el árbol de decisión"
      ]
    },
    {
      "cell_type": "markdown",
      "metadata": {
        "id": "Li_01Q7xXBVk",
        "colab_type": "text"
      },
      "source": [
        "### **2. Instalación de paquetes**\n",
        "\n"
      ]
    },
    {
      "cell_type": "code",
      "metadata": {
        "id": "9BGpNVnXziSe",
        "colab_type": "code",
        "colab": {}
      },
      "source": [
        "pip install pandas sklearn graphviz"
      ],
      "execution_count": 0,
      "outputs": []
    },
    {
      "cell_type": "markdown",
      "metadata": {
        "id": "-SJ0cKxzYl54",
        "colab_type": "text"
      },
      "source": [
        "\n",
        "___\n",
        "\n",
        "<br>\n",
        "\n",
        "## **3. Comienzo de la práctica**\n",
        "\n",
        "### **3.1 Creación del Dataframe**\n",
        "\n",
        "Importamos la librerías **pandas** con la que leeremos el fichero y creamos nuestro dataframe"
      ]
    },
    {
      "cell_type": "code",
      "metadata": {
        "id": "Y2gicmGl4_uR",
        "colab_type": "code",
        "colab": {}
      },
      "source": [
        "import pandas as pd"
      ],
      "execution_count": 0,
      "outputs": []
    },
    {
      "cell_type": "code",
      "metadata": {
        "id": "ieRsku1G7Onv",
        "colab_type": "code",
        "colab": {}
      },
      "source": [
        "dataframe_file = 'seeds.txt' \n",
        "\n",
        "# Leemos el fichero y le introducimos los nombres de las columnas que tendremos\n",
        "\n",
        "dataframe = pd.read_csv(dataframe_file, delimiter=\"\\s+\", names=['area', 'perimeter','compactibility', 'nucleus_length', 'nucleus_width', 'asymmetry_coefficient', 'groove_length', 'seed_type'])"
      ],
      "execution_count": 0,
      "outputs": []
    },
    {
      "cell_type": "code",
      "metadata": {
        "id": "YCU4frlO29Bu",
        "colab_type": "code",
        "outputId": "db8af0d0-7b32-4c7d-855a-02305feecb71",
        "colab": {
          "base_uri": "https://localhost:8080/",
          "height": 419
        }
      },
      "source": [
        "#Visualizamos el dataframe\n",
        "\n",
        "dataframe"
      ],
      "execution_count": 384,
      "outputs": [
        {
          "output_type": "execute_result",
          "data": {
            "text/html": [
              "<div>\n",
              "<style scoped>\n",
              "    .dataframe tbody tr th:only-of-type {\n",
              "        vertical-align: middle;\n",
              "    }\n",
              "\n",
              "    .dataframe tbody tr th {\n",
              "        vertical-align: top;\n",
              "    }\n",
              "\n",
              "    .dataframe thead th {\n",
              "        text-align: right;\n",
              "    }\n",
              "</style>\n",
              "<table border=\"1\" class=\"dataframe\">\n",
              "  <thead>\n",
              "    <tr style=\"text-align: right;\">\n",
              "      <th></th>\n",
              "      <th>area</th>\n",
              "      <th>perimeter</th>\n",
              "      <th>compactibility</th>\n",
              "      <th>nucleus_length</th>\n",
              "      <th>nucleus_width</th>\n",
              "      <th>asymmetry_coefficient</th>\n",
              "      <th>groove_length</th>\n",
              "      <th>seed_type</th>\n",
              "    </tr>\n",
              "  </thead>\n",
              "  <tbody>\n",
              "    <tr>\n",
              "      <th>0</th>\n",
              "      <td>15.26</td>\n",
              "      <td>14.84</td>\n",
              "      <td>0.8710</td>\n",
              "      <td>5.763</td>\n",
              "      <td>3.312</td>\n",
              "      <td>2.221</td>\n",
              "      <td>5.220</td>\n",
              "      <td>1</td>\n",
              "    </tr>\n",
              "    <tr>\n",
              "      <th>1</th>\n",
              "      <td>14.88</td>\n",
              "      <td>14.57</td>\n",
              "      <td>0.8811</td>\n",
              "      <td>5.554</td>\n",
              "      <td>3.333</td>\n",
              "      <td>1.018</td>\n",
              "      <td>4.956</td>\n",
              "      <td>1</td>\n",
              "    </tr>\n",
              "    <tr>\n",
              "      <th>2</th>\n",
              "      <td>14.29</td>\n",
              "      <td>14.09</td>\n",
              "      <td>0.9050</td>\n",
              "      <td>5.291</td>\n",
              "      <td>3.337</td>\n",
              "      <td>2.699</td>\n",
              "      <td>4.825</td>\n",
              "      <td>1</td>\n",
              "    </tr>\n",
              "    <tr>\n",
              "      <th>3</th>\n",
              "      <td>13.84</td>\n",
              "      <td>13.94</td>\n",
              "      <td>0.8955</td>\n",
              "      <td>5.324</td>\n",
              "      <td>3.379</td>\n",
              "      <td>2.259</td>\n",
              "      <td>4.805</td>\n",
              "      <td>1</td>\n",
              "    </tr>\n",
              "    <tr>\n",
              "      <th>4</th>\n",
              "      <td>16.14</td>\n",
              "      <td>14.99</td>\n",
              "      <td>0.9034</td>\n",
              "      <td>5.658</td>\n",
              "      <td>3.562</td>\n",
              "      <td>1.355</td>\n",
              "      <td>5.175</td>\n",
              "      <td>1</td>\n",
              "    </tr>\n",
              "    <tr>\n",
              "      <th>...</th>\n",
              "      <td>...</td>\n",
              "      <td>...</td>\n",
              "      <td>...</td>\n",
              "      <td>...</td>\n",
              "      <td>...</td>\n",
              "      <td>...</td>\n",
              "      <td>...</td>\n",
              "      <td>...</td>\n",
              "    </tr>\n",
              "    <tr>\n",
              "      <th>205</th>\n",
              "      <td>12.19</td>\n",
              "      <td>13.20</td>\n",
              "      <td>0.8783</td>\n",
              "      <td>5.137</td>\n",
              "      <td>2.981</td>\n",
              "      <td>3.631</td>\n",
              "      <td>4.870</td>\n",
              "      <td>3</td>\n",
              "    </tr>\n",
              "    <tr>\n",
              "      <th>206</th>\n",
              "      <td>11.23</td>\n",
              "      <td>12.88</td>\n",
              "      <td>0.8511</td>\n",
              "      <td>5.140</td>\n",
              "      <td>2.795</td>\n",
              "      <td>4.325</td>\n",
              "      <td>5.003</td>\n",
              "      <td>3</td>\n",
              "    </tr>\n",
              "    <tr>\n",
              "      <th>207</th>\n",
              "      <td>13.20</td>\n",
              "      <td>13.66</td>\n",
              "      <td>0.8883</td>\n",
              "      <td>5.236</td>\n",
              "      <td>3.232</td>\n",
              "      <td>8.315</td>\n",
              "      <td>5.056</td>\n",
              "      <td>3</td>\n",
              "    </tr>\n",
              "    <tr>\n",
              "      <th>208</th>\n",
              "      <td>11.84</td>\n",
              "      <td>13.21</td>\n",
              "      <td>0.8521</td>\n",
              "      <td>5.175</td>\n",
              "      <td>2.836</td>\n",
              "      <td>3.598</td>\n",
              "      <td>5.044</td>\n",
              "      <td>3</td>\n",
              "    </tr>\n",
              "    <tr>\n",
              "      <th>209</th>\n",
              "      <td>12.30</td>\n",
              "      <td>13.34</td>\n",
              "      <td>0.8684</td>\n",
              "      <td>5.243</td>\n",
              "      <td>2.974</td>\n",
              "      <td>5.637</td>\n",
              "      <td>5.063</td>\n",
              "      <td>3</td>\n",
              "    </tr>\n",
              "  </tbody>\n",
              "</table>\n",
              "<p>210 rows × 8 columns</p>\n",
              "</div>"
            ],
            "text/plain": [
              "      area  perimeter  ...  groove_length  seed_type\n",
              "0    15.26      14.84  ...          5.220          1\n",
              "1    14.88      14.57  ...          4.956          1\n",
              "2    14.29      14.09  ...          4.825          1\n",
              "3    13.84      13.94  ...          4.805          1\n",
              "4    16.14      14.99  ...          5.175          1\n",
              "..     ...        ...  ...            ...        ...\n",
              "205  12.19      13.20  ...          4.870          3\n",
              "206  11.23      12.88  ...          5.003          3\n",
              "207  13.20      13.66  ...          5.056          3\n",
              "208  11.84      13.21  ...          5.044          3\n",
              "209  12.30      13.34  ...          5.063          3\n",
              "\n",
              "[210 rows x 8 columns]"
            ]
          },
          "metadata": {
            "tags": []
          },
          "execution_count": 384
        }
      ]
    },
    {
      "cell_type": "markdown",
      "metadata": {
        "id": "xMlIkeccZucy",
        "colab_type": "text"
      },
      "source": [
        "### NOTA\n",
        "Podemos ver los tipos de semilla que tenemos en todo el dataframe y también ver cuantos hay de cada tipo "
      ]
    },
    {
      "cell_type": "code",
      "metadata": {
        "id": "G6XnNAjHBGX7",
        "colab_type": "code",
        "outputId": "bba03c58-49a9-4cae-a375-d762144bf4a0",
        "colab": {
          "base_uri": "https://localhost:8080/",
          "height": 34
        }
      },
      "source": [
        "# Tipos de semillas\n",
        "\n",
        "dataframe['seed_type'].unique()"
      ],
      "execution_count": 385,
      "outputs": [
        {
          "output_type": "execute_result",
          "data": {
            "text/plain": [
              "array([1, 2, 3])"
            ]
          },
          "metadata": {
            "tags": []
          },
          "execution_count": 385
        }
      ]
    },
    {
      "cell_type": "code",
      "metadata": {
        "id": "W_oNRJXc-fs3",
        "colab_type": "code",
        "outputId": "f90256ac-1fe8-4f54-edd2-b55fb04c364e",
        "colab": {
          "base_uri": "https://localhost:8080/",
          "height": 85
        }
      },
      "source": [
        "# Cantidad de semillas por cada tipo de ellas\n",
        "dataframe['seed_type'].value_counts()"
      ],
      "execution_count": 386,
      "outputs": [
        {
          "output_type": "execute_result",
          "data": {
            "text/plain": [
              "3    70\n",
              "2    70\n",
              "1    70\n",
              "Name: seed_type, dtype: int64"
            ]
          },
          "metadata": {
            "tags": []
          },
          "execution_count": 386
        }
      ]
    },
    {
      "cell_type": "markdown",
      "metadata": {
        "id": "q4-rE6D7bUXV",
        "colab_type": "text"
      },
      "source": [
        "\n",
        "___\n",
        "\n",
        "<br>\n",
        "\n",
        "### **3.2 Datos de descriptivos y datos objetivo.**\n",
        "\n",
        "- **Descriptivos (data) :** Usaremos el mismo dataframe pero sin la última columna ya que es la que queremos predecir.\n",
        "\n",
        "- **Objetivo (target) :** Usaremos solo la última columna del dataframe\n"
      ]
    },
    {
      "cell_type": "code",
      "metadata": {
        "id": "axo82EhOBkKP",
        "colab_type": "code",
        "colab": {}
      },
      "source": [
        "# Eliminación de la ultima columna para crear el dataframe de los datos descriptivos\n",
        "\n",
        "data = seeds_dataframe.drop('seed_type', axis=1)"
      ],
      "execution_count": 0,
      "outputs": []
    },
    {
      "cell_type": "code",
      "metadata": {
        "id": "srN_OisVCNqe",
        "colab_type": "code",
        "outputId": "a6246b71-68ec-48bd-e1bf-e6867ad5d088",
        "colab": {
          "base_uri": "https://localhost:8080/",
          "height": 419
        }
      },
      "source": [
        "data"
      ],
      "execution_count": 388,
      "outputs": [
        {
          "output_type": "execute_result",
          "data": {
            "text/html": [
              "<div>\n",
              "<style scoped>\n",
              "    .dataframe tbody tr th:only-of-type {\n",
              "        vertical-align: middle;\n",
              "    }\n",
              "\n",
              "    .dataframe tbody tr th {\n",
              "        vertical-align: top;\n",
              "    }\n",
              "\n",
              "    .dataframe thead th {\n",
              "        text-align: right;\n",
              "    }\n",
              "</style>\n",
              "<table border=\"1\" class=\"dataframe\">\n",
              "  <thead>\n",
              "    <tr style=\"text-align: right;\">\n",
              "      <th></th>\n",
              "      <th>area</th>\n",
              "      <th>perimeter</th>\n",
              "      <th>compactibility</th>\n",
              "      <th>nucleus_length</th>\n",
              "      <th>nucleus_width</th>\n",
              "      <th>asymmetry_coefficient</th>\n",
              "      <th>groove_length</th>\n",
              "    </tr>\n",
              "  </thead>\n",
              "  <tbody>\n",
              "    <tr>\n",
              "      <th>0</th>\n",
              "      <td>15.26</td>\n",
              "      <td>14.84</td>\n",
              "      <td>0.8710</td>\n",
              "      <td>5.763</td>\n",
              "      <td>3.312</td>\n",
              "      <td>2.221</td>\n",
              "      <td>5.220</td>\n",
              "    </tr>\n",
              "    <tr>\n",
              "      <th>1</th>\n",
              "      <td>14.88</td>\n",
              "      <td>14.57</td>\n",
              "      <td>0.8811</td>\n",
              "      <td>5.554</td>\n",
              "      <td>3.333</td>\n",
              "      <td>1.018</td>\n",
              "      <td>4.956</td>\n",
              "    </tr>\n",
              "    <tr>\n",
              "      <th>2</th>\n",
              "      <td>14.29</td>\n",
              "      <td>14.09</td>\n",
              "      <td>0.9050</td>\n",
              "      <td>5.291</td>\n",
              "      <td>3.337</td>\n",
              "      <td>2.699</td>\n",
              "      <td>4.825</td>\n",
              "    </tr>\n",
              "    <tr>\n",
              "      <th>3</th>\n",
              "      <td>13.84</td>\n",
              "      <td>13.94</td>\n",
              "      <td>0.8955</td>\n",
              "      <td>5.324</td>\n",
              "      <td>3.379</td>\n",
              "      <td>2.259</td>\n",
              "      <td>4.805</td>\n",
              "    </tr>\n",
              "    <tr>\n",
              "      <th>4</th>\n",
              "      <td>16.14</td>\n",
              "      <td>14.99</td>\n",
              "      <td>0.9034</td>\n",
              "      <td>5.658</td>\n",
              "      <td>3.562</td>\n",
              "      <td>1.355</td>\n",
              "      <td>5.175</td>\n",
              "    </tr>\n",
              "    <tr>\n",
              "      <th>...</th>\n",
              "      <td>...</td>\n",
              "      <td>...</td>\n",
              "      <td>...</td>\n",
              "      <td>...</td>\n",
              "      <td>...</td>\n",
              "      <td>...</td>\n",
              "      <td>...</td>\n",
              "    </tr>\n",
              "    <tr>\n",
              "      <th>205</th>\n",
              "      <td>12.19</td>\n",
              "      <td>13.20</td>\n",
              "      <td>0.8783</td>\n",
              "      <td>5.137</td>\n",
              "      <td>2.981</td>\n",
              "      <td>3.631</td>\n",
              "      <td>4.870</td>\n",
              "    </tr>\n",
              "    <tr>\n",
              "      <th>206</th>\n",
              "      <td>11.23</td>\n",
              "      <td>12.88</td>\n",
              "      <td>0.8511</td>\n",
              "      <td>5.140</td>\n",
              "      <td>2.795</td>\n",
              "      <td>4.325</td>\n",
              "      <td>5.003</td>\n",
              "    </tr>\n",
              "    <tr>\n",
              "      <th>207</th>\n",
              "      <td>13.20</td>\n",
              "      <td>13.66</td>\n",
              "      <td>0.8883</td>\n",
              "      <td>5.236</td>\n",
              "      <td>3.232</td>\n",
              "      <td>8.315</td>\n",
              "      <td>5.056</td>\n",
              "    </tr>\n",
              "    <tr>\n",
              "      <th>208</th>\n",
              "      <td>11.84</td>\n",
              "      <td>13.21</td>\n",
              "      <td>0.8521</td>\n",
              "      <td>5.175</td>\n",
              "      <td>2.836</td>\n",
              "      <td>3.598</td>\n",
              "      <td>5.044</td>\n",
              "    </tr>\n",
              "    <tr>\n",
              "      <th>209</th>\n",
              "      <td>12.30</td>\n",
              "      <td>13.34</td>\n",
              "      <td>0.8684</td>\n",
              "      <td>5.243</td>\n",
              "      <td>2.974</td>\n",
              "      <td>5.637</td>\n",
              "      <td>5.063</td>\n",
              "    </tr>\n",
              "  </tbody>\n",
              "</table>\n",
              "<p>210 rows × 7 columns</p>\n",
              "</div>"
            ],
            "text/plain": [
              "      area  perimeter  ...  asymmetry_coefficient  groove_length\n",
              "0    15.26      14.84  ...                  2.221          5.220\n",
              "1    14.88      14.57  ...                  1.018          4.956\n",
              "2    14.29      14.09  ...                  2.699          4.825\n",
              "3    13.84      13.94  ...                  2.259          4.805\n",
              "4    16.14      14.99  ...                  1.355          5.175\n",
              "..     ...        ...  ...                    ...            ...\n",
              "205  12.19      13.20  ...                  3.631          4.870\n",
              "206  11.23      12.88  ...                  4.325          5.003\n",
              "207  13.20      13.66  ...                  8.315          5.056\n",
              "208  11.84      13.21  ...                  3.598          5.044\n",
              "209  12.30      13.34  ...                  5.637          5.063\n",
              "\n",
              "[210 rows x 7 columns]"
            ]
          },
          "metadata": {
            "tags": []
          },
          "execution_count": 388
        }
      ]
    },
    {
      "cell_type": "code",
      "metadata": {
        "id": "d5BBSXUqCP_1",
        "colab_type": "code",
        "colab": {}
      },
      "source": [
        "# Escogemos la última columna de dataframe como objetivos que serán los tipos de semilla que tendremos\n",
        "\n",
        "target = dataframe['seed_type']"
      ],
      "execution_count": 0,
      "outputs": []
    },
    {
      "cell_type": "code",
      "metadata": {
        "id": "JGjPC11KCgw-",
        "colab_type": "code",
        "outputId": "01709c5d-7be8-4fd2-80fe-adf8fd77b290",
        "colab": {
          "base_uri": "https://localhost:8080/",
          "height": 221
        }
      },
      "source": [
        "target"
      ],
      "execution_count": 390,
      "outputs": [
        {
          "output_type": "execute_result",
          "data": {
            "text/plain": [
              "0      1\n",
              "1      1\n",
              "2      1\n",
              "3      1\n",
              "4      1\n",
              "      ..\n",
              "205    3\n",
              "206    3\n",
              "207    3\n",
              "208    3\n",
              "209    3\n",
              "Name: seed_type, Length: 210, dtype: int64"
            ]
          },
          "metadata": {
            "tags": []
          },
          "execution_count": 390
        }
      ]
    },
    {
      "cell_type": "markdown",
      "metadata": {
        "id": "7WkKdfQ6o265",
        "colab_type": "text"
      },
      "source": [
        "\n",
        "___\n",
        "\n",
        "<br>\n",
        "\n",
        "### **3.3 Creación del árbol de decisión**"
      ]
    },
    {
      "cell_type": "code",
      "metadata": {
        "id": "TM-8utRFF1F4",
        "colab_type": "code",
        "colab": {}
      },
      "source": [
        "from sklearn.model_selection import train_test_split"
      ],
      "execution_count": 0,
      "outputs": []
    },
    {
      "cell_type": "code",
      "metadata": {
        "id": "Y8D5qMaFF7Ev",
        "colab_type": "code",
        "colab": {}
      },
      "source": [
        "# Indicamos el porcentaje que tendrán los datos de entrenamiento y los datos de validación\n",
        "\n",
        "data_train, data_test, target_train, target_test = train_test_split(data, target, test_size=0.3)"
      ],
      "execution_count": 0,
      "outputs": []
    },
    {
      "cell_type": "code",
      "metadata": {
        "id": "FRZflJhnGLfl",
        "colab_type": "code",
        "colab": {}
      },
      "source": [
        "from sklearn.tree import DecisionTreeClassifier"
      ],
      "execution_count": 0,
      "outputs": []
    },
    {
      "cell_type": "code",
      "metadata": {
        "id": "rAoCkC8vGxMv",
        "colab_type": "code",
        "colab": {}
      },
      "source": [
        "model_tree = DecisionTreeClassifier(random_state=0, max_depth=5, min_samples_leaf=3, min_samples_split=10)"
      ],
      "execution_count": 0,
      "outputs": []
    },
    {
      "cell_type": "code",
      "metadata": {
        "id": "rBVbovkPGz7r",
        "colab_type": "code",
        "colab": {}
      },
      "source": [
        "model_tree = model_tree.fit(data_train, target_train)"
      ],
      "execution_count": 0,
      "outputs": []
    },
    {
      "cell_type": "code",
      "metadata": {
        "id": "d4lNRn5eIUZi",
        "colab_type": "code",
        "outputId": "916d1a39-07f5-48ba-8171-ad2a2e7145cd",
        "colab": {
          "base_uri": "https://localhost:8080/",
          "height": 119
        }
      },
      "source": [
        "model_tree"
      ],
      "execution_count": 396,
      "outputs": [
        {
          "output_type": "execute_result",
          "data": {
            "text/plain": [
              "DecisionTreeClassifier(ccp_alpha=0.0, class_weight=None, criterion='gini',\n",
              "                       max_depth=5, max_features=None, max_leaf_nodes=None,\n",
              "                       min_impurity_decrease=0.0, min_impurity_split=None,\n",
              "                       min_samples_leaf=3, min_samples_split=10,\n",
              "                       min_weight_fraction_leaf=0.0, presort='deprecated',\n",
              "                       random_state=0, splitter='best')"
            ]
          },
          "metadata": {
            "tags": []
          },
          "execution_count": 396
        }
      ]
    },
    {
      "cell_type": "code",
      "metadata": {
        "id": "kNmtWvbaFm81",
        "colab_type": "code",
        "colab": {}
      },
      "source": [
        "from sklearn import tree\n",
        "import graphviz"
      ],
      "execution_count": 0,
      "outputs": []
    },
    {
      "cell_type": "code",
      "metadata": {
        "id": "oUdP-m1gKAzE",
        "colab_type": "code",
        "colab": {}
      },
      "source": [
        "dot_seed = tree.export_graphviz(model_tree, out_file=None,\n",
        "                                feature_names=data.columns,\n",
        "                                filled=True)\n",
        "\n",
        "graph = graphviz.Source(dot_seed)"
      ],
      "execution_count": 0,
      "outputs": []
    },
    {
      "cell_type": "code",
      "metadata": {
        "id": "OPRmQnhsKcxc",
        "colab_type": "code",
        "outputId": "18acc8db-5e6e-4332-edf6-a560b6b85202",
        "colab": {
          "base_uri": "https://localhost:8080/",
          "height": 657
        }
      },
      "source": [
        "graph"
      ],
      "execution_count": 399,
      "outputs": [
        {
          "output_type": "execute_result",
          "data": {
            "text/plain": [
              "<graphviz.files.Source at 0x7f933e8f9320>"
            ],
            "image/svg+xml": "<?xml version=\"1.0\" encoding=\"UTF-8\" standalone=\"no\"?>\n<!DOCTYPE svg PUBLIC \"-//W3C//DTD SVG 1.1//EN\"\n \"http://www.w3.org/Graphics/SVG/1.1/DTD/svg11.dtd\">\n<!-- Generated by graphviz version 2.40.1 (20161225.0304)\n -->\n<!-- Title: Tree Pages: 1 -->\n<svg width=\"829pt\" height=\"477pt\"\n viewBox=\"0.00 0.00 828.50 477.00\" xmlns=\"http://www.w3.org/2000/svg\" xmlns:xlink=\"http://www.w3.org/1999/xlink\">\n<g id=\"graph0\" class=\"graph\" transform=\"scale(1 1) rotate(0) translate(4 473)\">\n<title>Tree</title>\n<polygon fill=\"#ffffff\" stroke=\"transparent\" points=\"-4,4 -4,-473 824.5,-473 824.5,4 -4,4\"/>\n<!-- 0 -->\n<g id=\"node1\" class=\"node\">\n<title>0</title>\n<polygon fill=\"#faf7fe\" stroke=\"#000000\" points=\"619,-469 461,-469 461,-401 619,-401 619,-469\"/>\n<text text-anchor=\"middle\" x=\"540\" y=\"-453.8\" font-family=\"Times,serif\" font-size=\"14.00\" fill=\"#000000\">groove_length &lt;= 5.573</text>\n<text text-anchor=\"middle\" x=\"540\" y=\"-438.8\" font-family=\"Times,serif\" font-size=\"14.00\" fill=\"#000000\">gini = 0.664</text>\n<text text-anchor=\"middle\" x=\"540\" y=\"-423.8\" font-family=\"Times,serif\" font-size=\"14.00\" fill=\"#000000\">samples = 147</text>\n<text text-anchor=\"middle\" x=\"540\" y=\"-408.8\" font-family=\"Times,serif\" font-size=\"14.00\" fill=\"#000000\">value = [50, 43, 54]</text>\n</g>\n<!-- 1 -->\n<g id=\"node2\" class=\"node\">\n<title>1</title>\n<polygon fill=\"#f4edfd\" stroke=\"#000000\" points=\"511.5,-365 386.5,-365 386.5,-297 511.5,-297 511.5,-365\"/>\n<text text-anchor=\"middle\" x=\"449\" y=\"-349.8\" font-family=\"Times,serif\" font-size=\"14.00\" fill=\"#000000\">area &lt;= 12.71</text>\n<text text-anchor=\"middle\" x=\"449\" y=\"-334.8\" font-family=\"Times,serif\" font-size=\"14.00\" fill=\"#000000\">gini = 0.517</text>\n<text text-anchor=\"middle\" x=\"449\" y=\"-319.8\" font-family=\"Times,serif\" font-size=\"14.00\" fill=\"#000000\">samples = 105</text>\n<text text-anchor=\"middle\" x=\"449\" y=\"-304.8\" font-family=\"Times,serif\" font-size=\"14.00\" fill=\"#000000\">value = [49, 2, 54]</text>\n</g>\n<!-- 0&#45;&gt;1 -->\n<g id=\"edge1\" class=\"edge\">\n<title>0&#45;&gt;1</title>\n<path fill=\"none\" stroke=\"#000000\" d=\"M510.2032,-400.9465C502.347,-391.968 493.7788,-382.1758 485.6087,-372.8385\"/>\n<polygon fill=\"#000000\" stroke=\"#000000\" points=\"488.0829,-370.351 478.8637,-365.13 482.8148,-374.9606 488.0829,-370.351\"/>\n<text text-anchor=\"middle\" x=\"477.2008\" y=\"-386.3746\" font-family=\"Times,serif\" font-size=\"14.00\" fill=\"#000000\">True</text>\n</g>\n<!-- 14 -->\n<g id=\"node15\" class=\"node\">\n<title>14</title>\n<polygon fill=\"#3ee684\" stroke=\"#000000\" points=\"734,-365 530,-365 530,-297 734,-297 734,-365\"/>\n<text text-anchor=\"middle\" x=\"632\" y=\"-349.8\" font-family=\"Times,serif\" font-size=\"14.00\" fill=\"#000000\">asymmetry_coefficient &lt;= 2.092</text>\n<text text-anchor=\"middle\" x=\"632\" y=\"-334.8\" font-family=\"Times,serif\" font-size=\"14.00\" fill=\"#000000\">gini = 0.046</text>\n<text text-anchor=\"middle\" x=\"632\" y=\"-319.8\" font-family=\"Times,serif\" font-size=\"14.00\" fill=\"#000000\">samples = 42</text>\n<text text-anchor=\"middle\" x=\"632\" y=\"-304.8\" font-family=\"Times,serif\" font-size=\"14.00\" fill=\"#000000\">value = [1, 41, 0]</text>\n</g>\n<!-- 0&#45;&gt;14 -->\n<g id=\"edge14\" class=\"edge\">\n<title>0&#45;&gt;14</title>\n<path fill=\"none\" stroke=\"#000000\" d=\"M570.1242,-400.9465C578.0668,-391.968 586.7291,-382.1758 594.989,-372.8385\"/>\n<polygon fill=\"#000000\" stroke=\"#000000\" points=\"597.8038,-374.939 601.8081,-365.13 592.5608,-370.301 597.8038,-374.939\"/>\n<text text-anchor=\"middle\" x=\"603.3358\" y=\"-386.3833\" font-family=\"Times,serif\" font-size=\"14.00\" fill=\"#000000\">False</text>\n</g>\n<!-- 2 -->\n<g id=\"node3\" class=\"node\">\n<title>2</title>\n<polygon fill=\"#8e4ee8\" stroke=\"#000000\" points=\"309,-261 151,-261 151,-193 309,-193 309,-261\"/>\n<text text-anchor=\"middle\" x=\"230\" y=\"-245.8\" font-family=\"Times,serif\" font-size=\"14.00\" fill=\"#000000\">groove_length &lt;= 4.749</text>\n<text text-anchor=\"middle\" x=\"230\" y=\"-230.8\" font-family=\"Times,serif\" font-size=\"14.00\" fill=\"#000000\">gini = 0.171</text>\n<text text-anchor=\"middle\" x=\"230\" y=\"-215.8\" font-family=\"Times,serif\" font-size=\"14.00\" fill=\"#000000\">samples = 53</text>\n<text text-anchor=\"middle\" x=\"230\" y=\"-200.8\" font-family=\"Times,serif\" font-size=\"14.00\" fill=\"#000000\">value = [5, 0, 48]</text>\n</g>\n<!-- 1&#45;&gt;2 -->\n<g id=\"edge2\" class=\"edge\">\n<title>1&#45;&gt;2</title>\n<path fill=\"none\" stroke=\"#000000\" d=\"M386.2434,-301.1978C362.7162,-290.025 335.6448,-277.1692 310.7158,-265.3308\"/>\n<polygon fill=\"#000000\" stroke=\"#000000\" points=\"312.1735,-262.1485 301.6389,-261.0203 309.1707,-268.4717 312.1735,-262.1485\"/>\n</g>\n<!-- 7 -->\n<g id=\"node8\" class=\"node\">\n<title>7</title>\n<polygon fill=\"#ea975b\" stroke=\"#000000\" points=\"553,-261 349,-261 349,-193 553,-193 553,-261\"/>\n<text text-anchor=\"middle\" x=\"451\" y=\"-245.8\" font-family=\"Times,serif\" font-size=\"14.00\" fill=\"#000000\">asymmetry_coefficient &lt;= 4.428</text>\n<text text-anchor=\"middle\" x=\"451\" y=\"-230.8\" font-family=\"Times,serif\" font-size=\"14.00\" fill=\"#000000\">gini = 0.269</text>\n<text text-anchor=\"middle\" x=\"451\" y=\"-215.8\" font-family=\"Times,serif\" font-size=\"14.00\" fill=\"#000000\">samples = 52</text>\n<text text-anchor=\"middle\" x=\"451\" y=\"-200.8\" font-family=\"Times,serif\" font-size=\"14.00\" fill=\"#000000\">value = [44, 2, 6]</text>\n</g>\n<!-- 1&#45;&gt;7 -->\n<g id=\"edge7\" class=\"edge\">\n<title>1&#45;&gt;7</title>\n<path fill=\"none\" stroke=\"#000000\" d=\"M449.6549,-296.9465C449.812,-288.776 449.9821,-279.9318 450.1467,-271.3697\"/>\n<polygon fill=\"#000000\" stroke=\"#000000\" points=\"453.6506,-271.1955 450.3437,-261.13 446.6519,-271.0608 453.6506,-271.1955\"/>\n</g>\n<!-- 3 -->\n<g id=\"node4\" class=\"node\">\n<title>3</title>\n<polygon fill=\"#e58139\" stroke=\"#000000\" points=\"110,-149.5 0,-149.5 0,-96.5 110,-96.5 110,-149.5\"/>\n<text text-anchor=\"middle\" x=\"55\" y=\"-134.3\" font-family=\"Times,serif\" font-size=\"14.00\" fill=\"#000000\">gini = 0.0</text>\n<text text-anchor=\"middle\" x=\"55\" y=\"-119.3\" font-family=\"Times,serif\" font-size=\"14.00\" fill=\"#000000\">samples = 4</text>\n<text text-anchor=\"middle\" x=\"55\" y=\"-104.3\" font-family=\"Times,serif\" font-size=\"14.00\" fill=\"#000000\">value = [4, 0, 0]</text>\n</g>\n<!-- 2&#45;&gt;3 -->\n<g id=\"edge3\" class=\"edge\">\n<title>2&#45;&gt;3</title>\n<path fill=\"none\" stroke=\"#000000\" d=\"M172.6985,-192.9465C152.0323,-180.6649 128.8044,-166.8609 108.4779,-154.7811\"/>\n<polygon fill=\"#000000\" stroke=\"#000000\" points=\"110.0469,-151.6422 99.6623,-149.5422 106.4707,-157.6598 110.0469,-151.6422\"/>\n</g>\n<!-- 4 -->\n<g id=\"node5\" class=\"node\">\n<title>4</title>\n<polygon fill=\"#843de6\" stroke=\"#000000\" points=\"331.5,-157 128.5,-157 128.5,-89 331.5,-89 331.5,-157\"/>\n<text text-anchor=\"middle\" x=\"230\" y=\"-141.8\" font-family=\"Times,serif\" font-size=\"14.00\" fill=\"#000000\">asymmetry_coefficient &lt;= 2.211</text>\n<text text-anchor=\"middle\" x=\"230\" y=\"-126.8\" font-family=\"Times,serif\" font-size=\"14.00\" fill=\"#000000\">gini = 0.04</text>\n<text text-anchor=\"middle\" x=\"230\" y=\"-111.8\" font-family=\"Times,serif\" font-size=\"14.00\" fill=\"#000000\">samples = 49</text>\n<text text-anchor=\"middle\" x=\"230\" y=\"-96.8\" font-family=\"Times,serif\" font-size=\"14.00\" fill=\"#000000\">value = [1, 0, 48]</text>\n</g>\n<!-- 2&#45;&gt;4 -->\n<g id=\"edge4\" class=\"edge\">\n<title>2&#45;&gt;4</title>\n<path fill=\"none\" stroke=\"#000000\" d=\"M230,-192.9465C230,-184.776 230,-175.9318 230,-167.3697\"/>\n<polygon fill=\"#000000\" stroke=\"#000000\" points=\"233.5001,-167.13 230,-157.13 226.5001,-167.13 233.5001,-167.13\"/>\n</g>\n<!-- 5 -->\n<g id=\"node6\" class=\"node\">\n<title>5</title>\n<polygon fill=\"#c09cf2\" stroke=\"#000000\" points=\"153,-53 43,-53 43,0 153,0 153,-53\"/>\n<text text-anchor=\"middle\" x=\"98\" y=\"-37.8\" font-family=\"Times,serif\" font-size=\"14.00\" fill=\"#000000\">gini = 0.444</text>\n<text text-anchor=\"middle\" x=\"98\" y=\"-22.8\" font-family=\"Times,serif\" font-size=\"14.00\" fill=\"#000000\">samples = 3</text>\n<text text-anchor=\"middle\" x=\"98\" y=\"-7.8\" font-family=\"Times,serif\" font-size=\"14.00\" fill=\"#000000\">value = [1, 0, 2]</text>\n</g>\n<!-- 4&#45;&gt;5 -->\n<g id=\"edge5\" class=\"edge\">\n<title>4&#45;&gt;5</title>\n<path fill=\"none\" stroke=\"#000000\" d=\"M183.4617,-88.9777C170.3099,-79.3629 156.0257,-68.9203 142.968,-59.3743\"/>\n<polygon fill=\"#000000\" stroke=\"#000000\" points=\"144.727,-56.3247 134.5886,-53.2485 140.5958,-61.9757 144.727,-56.3247\"/>\n</g>\n<!-- 6 -->\n<g id=\"node7\" class=\"node\">\n<title>6</title>\n<polygon fill=\"#8139e5\" stroke=\"#000000\" points=\"288.5,-53 171.5,-53 171.5,0 288.5,0 288.5,-53\"/>\n<text text-anchor=\"middle\" x=\"230\" y=\"-37.8\" font-family=\"Times,serif\" font-size=\"14.00\" fill=\"#000000\">gini = 0.0</text>\n<text text-anchor=\"middle\" x=\"230\" y=\"-22.8\" font-family=\"Times,serif\" font-size=\"14.00\" fill=\"#000000\">samples = 46</text>\n<text text-anchor=\"middle\" x=\"230\" y=\"-7.8\" font-family=\"Times,serif\" font-size=\"14.00\" fill=\"#000000\">value = [0, 0, 46]</text>\n</g>\n<!-- 4&#45;&gt;6 -->\n<g id=\"edge6\" class=\"edge\">\n<title>4&#45;&gt;6</title>\n<path fill=\"none\" stroke=\"#000000\" d=\"M230,-88.9777C230,-80.7364 230,-71.887 230,-63.5153\"/>\n<polygon fill=\"#000000\" stroke=\"#000000\" points=\"233.5001,-63.2484 230,-53.2485 226.5001,-63.2485 233.5001,-63.2484\"/>\n</g>\n<!-- 8 -->\n<g id=\"node9\" class=\"node\">\n<title>8</title>\n<polygon fill=\"#e68743\" stroke=\"#000000\" points=\"530,-157 372,-157 372,-89 530,-89 530,-157\"/>\n<text text-anchor=\"middle\" x=\"451\" y=\"-141.8\" font-family=\"Times,serif\" font-size=\"14.00\" fill=\"#000000\">nucleus_width &lt;= 3.463</text>\n<text text-anchor=\"middle\" x=\"451\" y=\"-126.8\" font-family=\"Times,serif\" font-size=\"14.00\" fill=\"#000000\">gini = 0.091</text>\n<text text-anchor=\"middle\" x=\"451\" y=\"-111.8\" font-family=\"Times,serif\" font-size=\"14.00\" fill=\"#000000\">samples = 42</text>\n<text text-anchor=\"middle\" x=\"451\" y=\"-96.8\" font-family=\"Times,serif\" font-size=\"14.00\" fill=\"#000000\">value = [40, 2, 0]</text>\n</g>\n<!-- 7&#45;&gt;8 -->\n<g id=\"edge8\" class=\"edge\">\n<title>7&#45;&gt;8</title>\n<path fill=\"none\" stroke=\"#000000\" d=\"M451,-192.9465C451,-184.776 451,-175.9318 451,-167.3697\"/>\n<polygon fill=\"#000000\" stroke=\"#000000\" points=\"454.5001,-167.13 451,-157.13 447.5001,-167.13 454.5001,-167.13\"/>\n</g>\n<!-- 11 -->\n<g id=\"node12\" class=\"node\">\n<title>11</title>\n<polygon fill=\"#d5bdf6\" stroke=\"#000000\" points=\"680,-157 570,-157 570,-89 680,-89 680,-157\"/>\n<text text-anchor=\"middle\" x=\"625\" y=\"-141.8\" font-family=\"Times,serif\" font-size=\"14.00\" fill=\"#000000\">area &lt;= 13.68</text>\n<text text-anchor=\"middle\" x=\"625\" y=\"-126.8\" font-family=\"Times,serif\" font-size=\"14.00\" fill=\"#000000\">gini = 0.48</text>\n<text text-anchor=\"middle\" x=\"625\" y=\"-111.8\" font-family=\"Times,serif\" font-size=\"14.00\" fill=\"#000000\">samples = 10</text>\n<text text-anchor=\"middle\" x=\"625\" y=\"-96.8\" font-family=\"Times,serif\" font-size=\"14.00\" fill=\"#000000\">value = [4, 0, 6]</text>\n</g>\n<!-- 7&#45;&gt;11 -->\n<g id=\"edge11\" class=\"edge\">\n<title>7&#45;&gt;11</title>\n<path fill=\"none\" stroke=\"#000000\" d=\"M507.9741,-192.9465C524.9387,-182.8068 543.6393,-171.6294 561.0194,-161.2413\"/>\n<polygon fill=\"#000000\" stroke=\"#000000\" points=\"563.1835,-164.0254 569.9714,-155.8906 559.5921,-158.0168 563.1835,-164.0254\"/>\n</g>\n<!-- 9 -->\n<g id=\"node10\" class=\"node\">\n<title>9</title>\n<polygon fill=\"#e58139\" stroke=\"#000000\" points=\"423.5,-53 306.5,-53 306.5,0 423.5,0 423.5,-53\"/>\n<text text-anchor=\"middle\" x=\"365\" y=\"-37.8\" font-family=\"Times,serif\" font-size=\"14.00\" fill=\"#000000\">gini = 0.0</text>\n<text text-anchor=\"middle\" x=\"365\" y=\"-22.8\" font-family=\"Times,serif\" font-size=\"14.00\" fill=\"#000000\">samples = 37</text>\n<text text-anchor=\"middle\" x=\"365\" y=\"-7.8\" font-family=\"Times,serif\" font-size=\"14.00\" fill=\"#000000\">value = [37, 0, 0]</text>\n</g>\n<!-- 8&#45;&gt;9 -->\n<g id=\"edge9\" class=\"edge\">\n<title>8&#45;&gt;9</title>\n<path fill=\"none\" stroke=\"#000000\" d=\"M420.6796,-88.9777C412.519,-79.8207 403.6892,-69.9129 395.5179,-60.744\"/>\n<polygon fill=\"#000000\" stroke=\"#000000\" points=\"398.1042,-58.3854 388.838,-53.2485 392.8783,-63.0427 398.1042,-58.3854\"/>\n</g>\n<!-- 10 -->\n<g id=\"node11\" class=\"node\">\n<title>10</title>\n<polygon fill=\"#f6d5bd\" stroke=\"#000000\" points=\"552,-53 442,-53 442,0 552,0 552,-53\"/>\n<text text-anchor=\"middle\" x=\"497\" y=\"-37.8\" font-family=\"Times,serif\" font-size=\"14.00\" fill=\"#000000\">gini = 0.48</text>\n<text text-anchor=\"middle\" x=\"497\" y=\"-22.8\" font-family=\"Times,serif\" font-size=\"14.00\" fill=\"#000000\">samples = 5</text>\n<text text-anchor=\"middle\" x=\"497\" y=\"-7.8\" font-family=\"Times,serif\" font-size=\"14.00\" fill=\"#000000\">value = [3, 2, 0]</text>\n</g>\n<!-- 8&#45;&gt;10 -->\n<g id=\"edge10\" class=\"edge\">\n<title>8&#45;&gt;10</title>\n<path fill=\"none\" stroke=\"#000000\" d=\"M467.2179,-88.9777C471.321,-80.3702 475.7403,-71.0992 479.8861,-62.402\"/>\n<polygon fill=\"#000000\" stroke=\"#000000\" points=\"483.1058,-63.7814 484.2494,-53.2485 476.787,-60.7693 483.1058,-63.7814\"/>\n</g>\n<!-- 12 -->\n<g id=\"node13\" class=\"node\">\n<title>12</title>\n<polygon fill=\"#8139e5\" stroke=\"#000000\" points=\"680,-53 570,-53 570,0 680,0 680,-53\"/>\n<text text-anchor=\"middle\" x=\"625\" y=\"-37.8\" font-family=\"Times,serif\" font-size=\"14.00\" fill=\"#000000\">gini = 0.0</text>\n<text text-anchor=\"middle\" x=\"625\" y=\"-22.8\" font-family=\"Times,serif\" font-size=\"14.00\" fill=\"#000000\">samples = 6</text>\n<text text-anchor=\"middle\" x=\"625\" y=\"-7.8\" font-family=\"Times,serif\" font-size=\"14.00\" fill=\"#000000\">value = [0, 0, 6]</text>\n</g>\n<!-- 11&#45;&gt;12 -->\n<g id=\"edge12\" class=\"edge\">\n<title>11&#45;&gt;12</title>\n<path fill=\"none\" stroke=\"#000000\" d=\"M625,-88.9777C625,-80.7364 625,-71.887 625,-63.5153\"/>\n<polygon fill=\"#000000\" stroke=\"#000000\" points=\"628.5001,-63.2484 625,-53.2485 621.5001,-63.2485 628.5001,-63.2484\"/>\n</g>\n<!-- 13 -->\n<g id=\"node14\" class=\"node\">\n<title>13</title>\n<polygon fill=\"#e58139\" stroke=\"#000000\" points=\"808,-53 698,-53 698,0 808,0 808,-53\"/>\n<text text-anchor=\"middle\" x=\"753\" y=\"-37.8\" font-family=\"Times,serif\" font-size=\"14.00\" fill=\"#000000\">gini = 0.0</text>\n<text text-anchor=\"middle\" x=\"753\" y=\"-22.8\" font-family=\"Times,serif\" font-size=\"14.00\" fill=\"#000000\">samples = 4</text>\n<text text-anchor=\"middle\" x=\"753\" y=\"-7.8\" font-family=\"Times,serif\" font-size=\"14.00\" fill=\"#000000\">value = [4, 0, 0]</text>\n</g>\n<!-- 11&#45;&gt;13 -->\n<g id=\"edge13\" class=\"edge\">\n<title>11&#45;&gt;13</title>\n<path fill=\"none\" stroke=\"#000000\" d=\"M670.128,-88.9777C682.8813,-79.3629 696.7327,-68.9203 709.3947,-59.3743\"/>\n<polygon fill=\"#000000\" stroke=\"#000000\" points=\"711.6421,-62.0632 717.5202,-53.2485 707.4281,-56.4737 711.6421,-62.0632\"/>\n</g>\n<!-- 15 -->\n<g id=\"node16\" class=\"node\">\n<title>15</title>\n<polygon fill=\"#6aeca0\" stroke=\"#000000\" points=\"685,-253.5 575,-253.5 575,-200.5 685,-200.5 685,-253.5\"/>\n<text text-anchor=\"middle\" x=\"630\" y=\"-238.3\" font-family=\"Times,serif\" font-size=\"14.00\" fill=\"#000000\">gini = 0.32</text>\n<text text-anchor=\"middle\" x=\"630\" y=\"-223.3\" font-family=\"Times,serif\" font-size=\"14.00\" fill=\"#000000\">samples = 5</text>\n<text text-anchor=\"middle\" x=\"630\" y=\"-208.3\" font-family=\"Times,serif\" font-size=\"14.00\" fill=\"#000000\">value = [1, 4, 0]</text>\n</g>\n<!-- 14&#45;&gt;15 -->\n<g id=\"edge15\" class=\"edge\">\n<title>14&#45;&gt;15</title>\n<path fill=\"none\" stroke=\"#000000\" d=\"M631.3451,-296.9465C631.1397,-286.2621 630.912,-274.4254 630.7034,-263.5742\"/>\n<polygon fill=\"#000000\" stroke=\"#000000\" points=\"634.2021,-263.473 630.5104,-253.5422 627.2034,-263.6076 634.2021,-263.473\"/>\n</g>\n<!-- 16 -->\n<g id=\"node17\" class=\"node\">\n<title>16</title>\n<polygon fill=\"#39e581\" stroke=\"#000000\" points=\"820.5,-253.5 703.5,-253.5 703.5,-200.5 820.5,-200.5 820.5,-253.5\"/>\n<text text-anchor=\"middle\" x=\"762\" y=\"-238.3\" font-family=\"Times,serif\" font-size=\"14.00\" fill=\"#000000\">gini = 0.0</text>\n<text text-anchor=\"middle\" x=\"762\" y=\"-223.3\" font-family=\"Times,serif\" font-size=\"14.00\" fill=\"#000000\">samples = 37</text>\n<text text-anchor=\"middle\" x=\"762\" y=\"-208.3\" font-family=\"Times,serif\" font-size=\"14.00\" fill=\"#000000\">value = [0, 37, 0]</text>\n</g>\n<!-- 14&#45;&gt;16 -->\n<g id=\"edge16\" class=\"edge\">\n<title>14&#45;&gt;16</title>\n<path fill=\"none\" stroke=\"#000000\" d=\"M674.5669,-296.9465C689.437,-285.0504 706.0925,-271.726 720.8454,-259.9237\"/>\n<polygon fill=\"#000000\" stroke=\"#000000\" points=\"723.2,-262.5222 728.8223,-253.5422 718.8271,-257.0561 723.2,-262.5222\"/>\n</g>\n</g>\n</svg>\n"
          },
          "metadata": {
            "tags": []
          },
          "execution_count": 399
        }
      ]
    },
    {
      "cell_type": "markdown",
      "metadata": {
        "id": "gtrJOTCes-NU",
        "colab_type": "text"
      },
      "source": [
        "\n",
        "___\n",
        "\n",
        "<br>\n",
        "\n",
        "### **3.4 Predicciones**\n",
        "\n",
        "En este apartado sacaremos las precisiones que hemos conseguido tanto con el conjunto de validacion como el de entrenamiento y veremos también la *matriz de confusión*\n",
        "\n",
        "#### **3.4.1 Predicción sobre conjunto de validación**"
      ]
    },
    {
      "cell_type": "code",
      "metadata": {
        "id": "o4vObDAbH4Pt",
        "colab_type": "code",
        "colab": {}
      },
      "source": [
        "from sklearn.metrics import classification_report, confusion_matrix"
      ],
      "execution_count": 0,
      "outputs": []
    },
    {
      "cell_type": "code",
      "metadata": {
        "id": "1ZPJT5tBHfrU",
        "colab_type": "code",
        "colab": {}
      },
      "source": [
        "# Predecimos los datos objetivos con el árbol creado anterioremente\n",
        "\n",
        "predictions_test = model_tree.predict(data_test)"
      ],
      "execution_count": 0,
      "outputs": []
    },
    {
      "cell_type": "code",
      "metadata": {
        "id": "_fqS1lEeHj7V",
        "colab_type": "code",
        "outputId": "477b6c52-1f34-4895-a352-8d8f491e3c80",
        "colab": {
          "base_uri": "https://localhost:8080/",
          "height": 68
        }
      },
      "source": [
        "# Resultaods de las predicciones\n",
        "\n",
        "predictions_test"
      ],
      "execution_count": 402,
      "outputs": [
        {
          "output_type": "execute_result",
          "data": {
            "text/plain": [
              "array([2, 1, 2, 1, 2, 1, 1, 1, 2, 2, 2, 1, 3, 1, 3, 1, 2, 1, 2, 1, 2, 2,\n",
              "       2, 1, 3, 1, 1, 3, 2, 3, 3, 1, 3, 2, 2, 3, 3, 3, 2, 2, 2, 1, 1, 2,\n",
              "       2, 1, 3, 2, 2, 1, 1, 1, 1, 2, 2, 2, 1, 3, 2, 2, 3, 3, 2])"
            ]
          },
          "metadata": {
            "tags": []
          },
          "execution_count": 402
        }
      ]
    },
    {
      "cell_type": "code",
      "metadata": {
        "id": "ICRfbsRpHrD7",
        "colab_type": "code",
        "outputId": "d9d5888e-b0eb-4125-a83e-d36f62b94255",
        "colab": {
          "base_uri": "https://localhost:8080/",
          "height": 221
        }
      },
      "source": [
        "# Datos que tenía que predecir\n",
        "target_test"
      ],
      "execution_count": 403,
      "outputs": [
        {
          "output_type": "execute_result",
          "data": {
            "text/plain": [
              "133    2\n",
              "45     1\n",
              "136    2\n",
              "14     1\n",
              "121    2\n",
              "      ..\n",
              "99     2\n",
              "72     2\n",
              "190    3\n",
              "198    3\n",
              "95     2\n",
              "Name: seed_type, Length: 63, dtype: int64"
            ]
          },
          "metadata": {
            "tags": []
          },
          "execution_count": 403
        }
      ]
    },
    {
      "cell_type": "code",
      "metadata": {
        "colab_type": "code",
        "outputId": "d80ec49d-715a-4233-ad9a-44e9fed1c414",
        "id": "fJ-m9ZPTrqHp",
        "colab": {
          "base_uri": "https://localhost:8080/",
          "height": 187
        }
      },
      "source": [
        "print(classification_report(target_test, predictions_test))"
      ],
      "execution_count": 404,
      "outputs": [
        {
          "output_type": "stream",
          "text": [
            "              precision    recall  f1-score   support\n",
            "\n",
            "           1       0.91      1.00      0.95        20\n",
            "           2       1.00      1.00      1.00        27\n",
            "           3       1.00      0.88      0.93        16\n",
            "\n",
            "    accuracy                           0.97        63\n",
            "   macro avg       0.97      0.96      0.96        63\n",
            "weighted avg       0.97      0.97      0.97        63\n",
            "\n"
          ],
          "name": "stdout"
        }
      ]
    },
    {
      "cell_type": "code",
      "metadata": {
        "id": "xKlDK1F6IInw",
        "colab_type": "code",
        "outputId": "a2fed9e1-1572-45a3-d16f-01bfac5ae486",
        "colab": {
          "base_uri": "https://localhost:8080/",
          "height": 68
        }
      },
      "source": [
        "print(confusion_matrix(target_test, predictions_test))"
      ],
      "execution_count": 405,
      "outputs": [
        {
          "output_type": "stream",
          "text": [
            "[[20  0  0]\n",
            " [ 0 27  0]\n",
            " [ 2  0 14]]\n"
          ],
          "name": "stdout"
        }
      ]
    },
    {
      "cell_type": "markdown",
      "metadata": {
        "id": "27mAO5wBuQVF",
        "colab_type": "text"
      },
      "source": [
        "\n",
        "___\n",
        "\n",
        "<br>\n",
        "\n",
        "#### **3.4.2 Predicciones sobre conjunto de entrenamiento**"
      ]
    },
    {
      "cell_type": "code",
      "metadata": {
        "id": "-RZ6gcg3scEY",
        "colab_type": "code",
        "colab": {}
      },
      "source": [
        "predictions_train = model_tree.predict(data_train)"
      ],
      "execution_count": 0,
      "outputs": []
    },
    {
      "cell_type": "code",
      "metadata": {
        "id": "ynY6W8hTufag",
        "colab_type": "code",
        "colab": {
          "base_uri": "https://localhost:8080/",
          "height": 136
        },
        "outputId": "70b58da8-b074-42fa-9de0-729e2c608f20"
      },
      "source": [
        "predictions_train"
      ],
      "execution_count": 407,
      "outputs": [
        {
          "output_type": "execute_result",
          "data": {
            "text/plain": [
              "array([2, 1, 3, 1, 2, 1, 3, 3, 3, 2, 2, 2, 1, 1, 3, 3, 2, 1, 1, 1, 3, 1,\n",
              "       2, 1, 3, 1, 1, 3, 3, 1, 3, 3, 2, 2, 3, 1, 1, 1, 3, 3, 3, 1, 3, 2,\n",
              "       3, 2, 3, 3, 1, 3, 2, 1, 1, 1, 2, 2, 2, 2, 1, 3, 1, 3, 1, 3, 3, 1,\n",
              "       2, 3, 2, 3, 3, 1, 2, 1, 1, 1, 3, 3, 1, 1, 2, 1, 2, 1, 3, 2, 2, 3,\n",
              "       1, 3, 1, 2, 2, 3, 1, 1, 1, 2, 3, 3, 3, 2, 2, 2, 3, 1, 3, 1, 3, 3,\n",
              "       1, 2, 3, 3, 3, 2, 3, 3, 3, 1, 3, 3, 2, 2, 2, 1, 2, 2, 1, 2, 3, 3,\n",
              "       1, 1, 1, 3, 3, 1, 3, 2, 1, 2, 2, 3, 2, 2, 1])"
            ]
          },
          "metadata": {
            "tags": []
          },
          "execution_count": 407
        }
      ]
    },
    {
      "cell_type": "code",
      "metadata": {
        "id": "iR-RKgDpuqae",
        "colab_type": "code",
        "colab": {
          "base_uri": "https://localhost:8080/",
          "height": 221
        },
        "outputId": "7444fc39-a590-434c-a9ee-b69ae110608e"
      },
      "source": [
        "target_train"
      ],
      "execution_count": 408,
      "outputs": [
        {
          "output_type": "execute_result",
          "data": {
            "text/plain": [
              "96     2\n",
              "26     1\n",
              "169    3\n",
              "35     1\n",
              "87     2\n",
              "      ..\n",
              "134    2\n",
              "202    3\n",
              "86     2\n",
              "78     2\n",
              "17     1\n",
              "Name: seed_type, Length: 147, dtype: int64"
            ]
          },
          "metadata": {
            "tags": []
          },
          "execution_count": 408
        }
      ]
    },
    {
      "cell_type": "code",
      "metadata": {
        "id": "FiCxdngkuxy3",
        "colab_type": "code",
        "colab": {
          "base_uri": "https://localhost:8080/",
          "height": 187
        },
        "outputId": "7b11d16d-5efa-4d59-cac3-3e13621841ec"
      },
      "source": [
        "print(classification_report(target_train, predictions_train))"
      ],
      "execution_count": 409,
      "outputs": [
        {
          "output_type": "stream",
          "text": [
            "              precision    recall  f1-score   support\n",
            "\n",
            "           1       0.96      0.96      0.96        50\n",
            "           2       0.98      0.95      0.96        43\n",
            "           3       0.98      1.00      0.99        54\n",
            "\n",
            "    accuracy                           0.97       147\n",
            "   macro avg       0.97      0.97      0.97       147\n",
            "weighted avg       0.97      0.97      0.97       147\n",
            "\n"
          ],
          "name": "stdout"
        }
      ]
    },
    {
      "cell_type": "code",
      "metadata": {
        "id": "gTC-OjHRu2l8",
        "colab_type": "code",
        "colab": {
          "base_uri": "https://localhost:8080/",
          "height": 68
        },
        "outputId": "382e01dc-0b74-49da-82cf-622b64a44127"
      },
      "source": [
        "print(confusion_matrix(target_train, predictions_train))"
      ],
      "execution_count": 410,
      "outputs": [
        {
          "output_type": "stream",
          "text": [
            "[[48  1  1]\n",
            " [ 2 41  0]\n",
            " [ 0  0 54]]\n"
          ],
          "name": "stdout"
        }
      ]
    }
  ]
}